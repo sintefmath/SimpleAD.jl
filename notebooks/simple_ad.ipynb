{
 "cells": [
  {
   "cell_type": "markdown",
   "metadata": {
    "slideshow": {
     "slide_type": "slide"
    }
   },
   "source": [
    "# Intro to automatic differentiation (AD) in Julia\n",
    "We will go over the principles behind AD and types in Julia.\n"
   ]
  },
  {
   "cell_type": "markdown",
   "metadata": {},
   "source": [
    "## Motivation\n",
    "We have some equation $F$ where we need to find a root $x$ so that,\n",
    "$$ F(x) = 0 $$\n",
    "This could be a discretized mass balance, a mismatch function or any other kind of analytical function.\n",
    "\n",
    "A quadratic method for such problems is Newton's method (derived by dropping Taylor terms):\n",
    "$$ x^{k+1} = x^{k} - F'(x^{k})^{-1}F(x^k)$$\n",
    "\n",
    "Here, $F'$ is the derivative of the function which generalizes to the Jacobian if $F, x$ are vector valued.\n",
    "\n",
    "**Question**: How to get $F'$ if $F$ is a complex program that contains many operations, branches and conditionals?"
   ]
  },
  {
   "cell_type": "markdown",
   "metadata": {},
   "source": [
    "## What is AD?\n",
    "AD refers to a class of techniques that obtain derivatives from computer programs. These fall within three broad categories:\n",
    "\n",
    "1. Forward AD, where the derivative of each operation is recorded together with the value as the program executes\n",
    "2. Reverse AD, where the operations are recorded together with the value on a \"tape\", which is then traversed in reverse after the value has been computed to find the derivative\n",
    "3. Source code or compiler-level AD that differentiates the source code or compiler intermediate representation to write a program that produces the derivatives\n",
    "\n",
    "Optimal performance is usually a result of mix-and-matching these techniques."
   ]
  },
  {
   "cell_type": "markdown",
   "metadata": {
    "slideshow": {
     "slide_type": "slide"
    }
   },
   "source": [
    "## Creating a AD type\n",
    "We define a subtype of the abstract `Number` type that holds a value and the partial derivative which can both be any kind of number that implements the concept of a dual (or tuple) number $\\bar{v}$ that holds both the value $v$ of some expression and the partial derivative of that expression with respect to our independent variable $x$:\n",
    "$$\\bar{v} = \\langle v, \\frac{\\partial v}{\\partial x} \\rangle$$\n",
    "\n",
    "Julia has a fairly constrained type system when compared to e.g. C++. For example, Julia does not allow for concrete inheritance -- only inheritance from abstract types that cannot be instantiated and do not have any properties. In the constructor, we make the derivative optional and defaulted to the `zero` of the value type. This is important, as it will allow Julia to convert any number to the AD type with the reasonable default of zero derivative."
   ]
  },
  {
   "cell_type": "code",
   "execution_count": 1,
   "metadata": {
    "slideshow": {
     "slide_type": "-"
    }
   },
   "outputs": [
    {
     "data": {
      "text/plain": [
       "AD(2.0, 1.0)"
      ]
     },
     "execution_count": 1,
     "metadata": {},
     "output_type": "execute_result"
    }
   ],
   "source": [
    "\"Type that holds value and derivative\"\n",
    "struct AD <: Number\n",
    "    v\n",
    "    dv\n",
    "    function AD(val::Number, der::Number = zero(val))\n",
    "        return new(val, der)\n",
    "    end\n",
    "end\n",
    "# AD with value 2.0 and derivative 1.0:\n",
    "AD(2.0, 1.0)"
   ]
  },
  {
   "cell_type": "markdown",
   "metadata": {
    "slideshow": {
     "slide_type": "slide"
    }
   },
   "source": [
    "## Some utilities\n",
    "If we want to work with derivatives, we should also define utilities for getting the value and derivative of numbers. We define also generic methods for the `Any` supertype, where the value is the entry itself and the derivative is zero. This means that we can write generic code without having to explicitly convert values to AD when needed. All Julia types are instances of `Any`. Julia will pick the most concrete function specialization: `AD<:Number` and `Number<:Any` means that `value(::AD)` will be called instead of `value(::Any)`. "
   ]
  },
  {
   "cell_type": "code",
   "execution_count": 2,
   "metadata": {
    "slideshow": {
     "slide_type": "-"
    }
   },
   "outputs": [
    {
     "data": {
      "text/plain": [
       "derivative (generic function with 2 methods)"
      ]
     },
     "execution_count": 2,
     "metadata": {},
     "output_type": "execute_result"
    }
   ],
   "source": [
    "value(x) = x # Short-hand for value(x::Any) = x\n",
    "value(x::AD) = x.v\n",
    "derivative(x) = zero(x)\n",
    "derivative(x::AD) = x.dv"
   ]
  },
  {
   "cell_type": "markdown",
   "metadata": {
    "slideshow": {
     "slide_type": "slide"
    }
   },
   "source": [
    "### Deconstruction of AD values\n",
    "We can also define a convenience function that unpacks the value and derivative (can be used as two output arguments)"
   ]
  },
  {
   "cell_type": "code",
   "execution_count": 3,
   "metadata": {},
   "outputs": [
    {
     "name": "stdout",
     "output_type": "stream",
     "text": [
      "Value was 1.0, derivative 5.0\n"
     ]
    }
   ],
   "source": [
    "value_and_derivative(x) = (value(x), derivative(x))\n",
    "v, v′ = value_and_derivative(AD(1.0, 5.0))\n",
    "println(\"Value was $v, derivative $v′\")"
   ]
  },
  {
   "cell_type": "markdown",
   "metadata": {
    "slideshow": {
     "slide_type": "slide"
    }
   },
   "source": [
    "### Pretty printing by multiple dispatch\n",
    "Customizing standard functionality for types in Julia is then done by creating specialized versons of the default functions (similar to operator overloading, but with multiple dispatch). We will modify the default `show` method used to print the type as an example. Let's make it closer to our notation:"
   ]
  },
  {
   "cell_type": "code",
   "execution_count": 4,
   "metadata": {},
   "outputs": [
    {
     "data": {
      "text/plain": [
       "⟨2.0, ∂/∂x=1.0⟩"
      ]
     },
     "execution_count": 4,
     "metadata": {},
     "output_type": "execute_result"
    }
   ],
   "source": [
    "import Base: show\n",
    "show(io::IO, x::AD) = print(io, \"⟨$(x.v), ∂/∂x=$(x.dv)⟩\")\n",
    "x = AD(2.0, 1.0)"
   ]
  },
  {
   "cell_type": "markdown",
   "metadata": {
    "slideshow": {
     "slide_type": "subslide"
    }
   },
   "source": [
    "We remark that this is a specialization for both the type of `show` stream (`::IO`) and the object to be shown (`::AD`). Other `show` methods that involve our `AD` type could behave differently, and we could further specialize on specific subtypes of `IO`, for example `Core.CoreSTDERR` to specialize for error messages."
   ]
  },
  {
   "cell_type": "markdown",
   "metadata": {
    "slideshow": {
     "slide_type": "slide"
    }
   },
   "source": [
    "## Adding things up\n",
    "Next up, let us specialize another base function, the binary addition operator `+`:"
   ]
  },
  {
   "cell_type": "code",
   "execution_count": 5,
   "metadata": {},
   "outputs": [
    {
     "data": {
      "text/plain": [
       "⟨12.0, ∂/∂x=2.5⟩"
      ]
     },
     "execution_count": 5,
     "metadata": {},
     "output_type": "execute_result"
    }
   ],
   "source": [
    "import Base.+\n",
    "function (+)(U::AD, V::AD)\n",
    "    u, u′ = value_and_derivative(U) # u = value(U), u′ = derivative(U)\n",
    "    v, v′ = value_and_derivative(V)\n",
    "    return AD(u + v, u′ + v′)\n",
    "end\n",
    "x = AD(2.0, 1.0)\n",
    "y = AD(10.0, 1.5)\n",
    "x + y"
   ]
  },
  {
   "cell_type": "code",
   "execution_count": 6,
   "metadata": {},
   "outputs": [
    {
     "data": {
      "text/plain": [
       "- (generic function with 215 methods)"
      ]
     },
     "execution_count": 6,
     "metadata": {},
     "output_type": "execute_result"
    }
   ],
   "source": [
    "import Base.-\n",
    "function (-)(U::AD, V::AD)\n",
    "    u, u′ = value_and_derivative(U) # u = value(U), u′ = derivative(U)\n",
    "    v, v′ = value_and_derivative(V)\n",
    "    return AD(u - v, u′ - v′)\n",
    "end"
   ]
  },
  {
   "cell_type": "markdown",
   "metadata": {
    "slideshow": {
     "slide_type": "slide"
    }
   },
   "source": [
    "## Picking a spot in the type hierarchy\n",
    "Our `AD` type depends on the abstract `Number` type. For our `AD` type to be useful, we are going to need several binary operators of the form `a+b` and `a*b` to be compatible with `AD` together with other numbers like `Float32` or `Float64`. If we were to call our addition operator with `AD` and a regular number, we would get an error message saying that there is no function `+` for `AD` and `Float64`.\n",
    "\n",
    "We want to avoid writing seperate functions for `AD * Float64` and `Float64 * AD` and so on: For type stability, we always want `AD` output when any of the inputs are `AD`. We can formalize this by implementing the `promote_rule` for our `AD` type."
   ]
  },
  {
   "cell_type": "code",
   "execution_count": 7,
   "metadata": {},
   "outputs": [
    {
     "data": {
      "text/plain": [
       "AD"
      ]
     },
     "execution_count": 7,
     "metadata": {},
     "output_type": "execute_result"
    }
   ],
   "source": [
    "import Base: promote_rule\n",
    "promote_rule(::Type{T}, ::Type{<:Number}) where {T<:AD} = T\n",
    "# Note difference in function name and calling order!\n",
    "promote_type(Float64, AD) # or promote for type instances"
   ]
  },
  {
   "cell_type": "markdown",
   "metadata": {
    "slideshow": {
     "slide_type": "slide"
    }
   },
   "source": [
    "It is worth noting that this function is dispatching on the \"type of type AD\" `Type{<:AD}` and not the type `AD` itself. This is because the choice of what function to use happens on the compile level, which is also defined through Julia code. We are in fact performing some light meta-programming without any use of macros here.\n",
    "\n",
    "Now, any call of the type `a*b` where `a` is `AD` and `b` is some other number will result in the function `a*convert(AD, b)` being called. `convert(AD, b)` will call our single input constructor, creating a AD object with zero derivative. Let us test it out:"
   ]
  },
  {
   "cell_type": "code",
   "execution_count": 8,
   "metadata": {
    "slideshow": {
     "slide_type": "-"
    }
   },
   "outputs": [
    {
     "data": {
      "text/plain": [
       "⟨4.0, ∂/∂x=1.0⟩"
      ]
     },
     "execution_count": 8,
     "metadata": {},
     "output_type": "execute_result"
    }
   ],
   "source": [
    "AD(1.0, 1.0) + 3.0"
   ]
  },
  {
   "cell_type": "markdown",
   "metadata": {
    "slideshow": {
     "slide_type": "slide"
    }
   },
   "source": [
    "## Multiplicative effects\n",
    "Let us add multiplication as our next feature:\n",
    "$$(uv)' = u'v + uv'$$"
   ]
  },
  {
   "cell_type": "code",
   "execution_count": 9,
   "metadata": {},
   "outputs": [
    {
     "data": {
      "text/plain": [
       "* (generic function with 365 methods)"
      ]
     },
     "execution_count": 9,
     "metadata": {},
     "output_type": "execute_result"
    }
   ],
   "source": [
    "import Base.*\n",
    "function (*)(U::AD, V::AD)\n",
    "    u, u′ = value_and_derivative(U)\n",
    "    v, v′ = value_and_derivative(V)\n",
    "    return AD(u*v, u′*v + u*v′)\n",
    "end\n"
   ]
  },
  {
   "cell_type": "code",
   "execution_count": 10,
   "metadata": {
    "slideshow": {
     "slide_type": "slide"
    }
   },
   "outputs": [
    {
     "data": {
      "text/plain": [
       "⟨20.0, ∂/∂x=13.0⟩"
      ]
     },
     "execution_count": 10,
     "metadata": {},
     "output_type": "execute_result"
    }
   ],
   "source": [
    "x = AD(2.0, 1.0)\n",
    "y = AD(10.0, 1.5)\n",
    "x*y"
   ]
  },
  {
   "cell_type": "code",
   "execution_count": 11,
   "metadata": {
    "slideshow": {
     "slide_type": "slide"
    }
   },
   "outputs": [
    {
     "data": {
      "text/plain": [
       "⟨7.0, ∂/∂x=2.0⟩"
      ]
     },
     "execution_count": 11,
     "metadata": {},
     "output_type": "execute_result"
    }
   ],
   "source": [
    "2.0*AD(3.5, 1.0)"
   ]
  },
  {
   "cell_type": "code",
   "execution_count": 12,
   "metadata": {
    "slideshow": {
     "slide_type": "skip"
    }
   },
   "outputs": [
    {
     "name": "stderr",
     "output_type": "stream",
     "text": [
      "\u001b[32m\u001b[1m    Updating\u001b[22m\u001b[39m registry at `C:\\Users\\olavm\\.julia\\registries\\General.toml`\n",
      "\u001b[32m\u001b[1m   Resolving\u001b[22m\u001b[39m package versions...\n",
      "\u001b[32m\u001b[1m  No Changes\u001b[22m\u001b[39m to `D:\\jobb\\bitbucket\\SimpleAD.jl\\Project.toml`\n",
      "\u001b[32m\u001b[1m  No Changes\u001b[22m\u001b[39m to `D:\\jobb\\bitbucket\\SimpleAD.jl\\Manifest.toml`\n"
     ]
    }
   ],
   "source": [
    "using Pkg; Pkg.add(\"Plots\");"
   ]
  },
  {
   "cell_type": "code",
   "execution_count": 23,
   "metadata": {
    "slideshow": {
     "slide_type": "slide"
    }
   },
   "outputs": [
    {
     "data": {
      "image/svg+xml": [
       "<?xml version=\"1.0\" encoding=\"utf-8\"?>\n",
       "<svg xmlns=\"http://www.w3.org/2000/svg\" xmlns:xlink=\"http://www.w3.org/1999/xlink\" width=\"600\" height=\"400\" viewBox=\"0 0 2400 1600\">\n",
       "<defs>\n",
       "  <clipPath id=\"clip410\">\n",
       "    <rect x=\"0\" y=\"0\" width=\"2400\" height=\"1600\"/>\n",
       "  </clipPath>\n",
       "</defs>\n",
       "<path clip-path=\"url(#clip410)\" d=\"\n",
       "M0 1600 L2400 1600 L2400 0 L0 0  Z\n",
       "  \" fill=\"#ffffff\" fill-rule=\"evenodd\" fill-opacity=\"1\"/>\n",
       "<defs>\n",
       "  <clipPath id=\"clip411\">\n",
       "    <rect x=\"480\" y=\"0\" width=\"1681\" height=\"1600\"/>\n",
       "  </clipPath>\n",
       "</defs>\n",
       "<path clip-path=\"url(#clip410)\" d=\"\n",
       "M170.857 1486.45 L2352.76 1486.45 L2352.76 47.2441 L170.857 47.2441  Z\n",
       "  \" fill=\"#ffffff\" fill-rule=\"evenodd\" fill-opacity=\"1\"/>\n",
       "<defs>\n",
       "  <clipPath id=\"clip412\">\n",
       "    <rect x=\"170\" y=\"47\" width=\"2183\" height=\"1440\"/>\n",
       "  </clipPath>\n",
       "</defs>\n",
       "<polyline clip-path=\"url(#clip412)\" style=\"stroke:#000000; stroke-linecap:butt; stroke-linejoin:round; stroke-width:2; stroke-opacity:0.1; fill:none\" points=\"\n",
       "  212.025,1486.45 212.025,47.2441 \n",
       "  \"/>\n",
       "<polyline clip-path=\"url(#clip412)\" style=\"stroke:#000000; stroke-linecap:butt; stroke-linejoin:round; stroke-width:2; stroke-opacity:0.1; fill:none\" points=\"\n",
       "  726.624,1486.45 726.624,47.2441 \n",
       "  \"/>\n",
       "<polyline clip-path=\"url(#clip412)\" style=\"stroke:#000000; stroke-linecap:butt; stroke-linejoin:round; stroke-width:2; stroke-opacity:0.1; fill:none\" points=\"\n",
       "  1241.22,1486.45 1241.22,47.2441 \n",
       "  \"/>\n",
       "<polyline clip-path=\"url(#clip412)\" style=\"stroke:#000000; stroke-linecap:butt; stroke-linejoin:round; stroke-width:2; stroke-opacity:0.1; fill:none\" points=\"\n",
       "  1755.82,1486.45 1755.82,47.2441 \n",
       "  \"/>\n",
       "<polyline clip-path=\"url(#clip412)\" style=\"stroke:#000000; stroke-linecap:butt; stroke-linejoin:round; stroke-width:2; stroke-opacity:0.1; fill:none\" points=\"\n",
       "  2270.42,1486.45 2270.42,47.2441 \n",
       "  \"/>\n",
       "<polyline clip-path=\"url(#clip410)\" style=\"stroke:#000000; stroke-linecap:butt; stroke-linejoin:round; stroke-width:4; stroke-opacity:1; fill:none\" points=\"\n",
       "  170.857,1486.45 2352.76,1486.45 \n",
       "  \"/>\n",
       "<polyline clip-path=\"url(#clip410)\" style=\"stroke:#000000; stroke-linecap:butt; stroke-linejoin:round; stroke-width:4; stroke-opacity:1; fill:none\" points=\"\n",
       "  212.025,1486.45 212.025,1467.55 \n",
       "  \"/>\n",
       "<polyline clip-path=\"url(#clip410)\" style=\"stroke:#000000; stroke-linecap:butt; stroke-linejoin:round; stroke-width:4; stroke-opacity:1; fill:none\" points=\"\n",
       "  726.624,1486.45 726.624,1467.55 \n",
       "  \"/>\n",
       "<polyline clip-path=\"url(#clip410)\" style=\"stroke:#000000; stroke-linecap:butt; stroke-linejoin:round; stroke-width:4; stroke-opacity:1; fill:none\" points=\"\n",
       "  1241.22,1486.45 1241.22,1467.55 \n",
       "  \"/>\n",
       "<polyline clip-path=\"url(#clip410)\" style=\"stroke:#000000; stroke-linecap:butt; stroke-linejoin:round; stroke-width:4; stroke-opacity:1; fill:none\" points=\"\n",
       "  1755.82,1486.45 1755.82,1467.55 \n",
       "  \"/>\n",
       "<polyline clip-path=\"url(#clip410)\" style=\"stroke:#000000; stroke-linecap:butt; stroke-linejoin:round; stroke-width:4; stroke-opacity:1; fill:none\" points=\"\n",
       "  2270.42,1486.45 2270.42,1467.55 \n",
       "  \"/>\n",
       "<path clip-path=\"url(#clip410)\" d=\"M212.025 1517.37 Q208.414 1517.37 206.586 1520.93 Q204.78 1524.47 204.78 1531.6 Q204.78 1538.71 206.586 1542.27 Q208.414 1545.82 212.025 1545.82 Q215.66 1545.82 217.465 1542.27 Q219.294 1538.71 219.294 1531.6 Q219.294 1524.47 217.465 1520.93 Q215.66 1517.37 212.025 1517.37 M212.025 1513.66 Q217.835 1513.66 220.891 1518.27 Q223.97 1522.85 223.97 1531.6 Q223.97 1540.33 220.891 1544.94 Q217.835 1549.52 212.025 1549.52 Q206.215 1549.52 203.136 1544.94 Q200.081 1540.33 200.081 1531.6 Q200.081 1522.85 203.136 1518.27 Q206.215 1513.66 212.025 1513.66 Z\" fill=\"#000000\" fill-rule=\"evenodd\" fill-opacity=\"1\" /><path clip-path=\"url(#clip410)\" d=\"M705.895 1544.91 L722.214 1544.91 L722.214 1548.85 L700.27 1548.85 L700.27 1544.91 Q702.932 1542.16 707.515 1537.53 Q712.122 1532.88 713.302 1531.53 Q715.548 1529.01 716.427 1527.27 Q717.33 1525.51 717.33 1523.82 Q717.33 1521.07 715.386 1519.33 Q713.464 1517.6 710.363 1517.6 Q708.163 1517.6 705.71 1518.36 Q703.279 1519.13 700.501 1520.68 L700.501 1515.95 Q703.326 1514.82 705.779 1514.24 Q708.233 1513.66 710.27 1513.66 Q715.64 1513.66 718.835 1516.35 Q722.029 1519.03 722.029 1523.52 Q722.029 1525.65 721.219 1527.57 Q720.432 1529.47 718.325 1532.07 Q717.747 1532.74 714.645 1535.95 Q711.543 1539.15 705.895 1544.91 Z\" fill=\"#000000\" fill-rule=\"evenodd\" fill-opacity=\"1\" /><path clip-path=\"url(#clip410)\" d=\"M732.075 1514.29 L750.432 1514.29 L750.432 1518.22 L736.358 1518.22 L736.358 1526.7 Q737.376 1526.35 738.395 1526.19 Q739.413 1526 740.432 1526 Q746.219 1526 749.598 1529.17 Q752.978 1532.34 752.978 1537.76 Q752.978 1543.34 749.506 1546.44 Q746.034 1549.52 739.714 1549.52 Q737.538 1549.52 735.27 1549.15 Q733.024 1548.78 730.617 1548.04 L730.617 1543.34 Q732.7 1544.47 734.923 1545.03 Q737.145 1545.58 739.622 1545.58 Q743.626 1545.58 745.964 1543.48 Q748.302 1541.37 748.302 1537.76 Q748.302 1534.15 745.964 1532.04 Q743.626 1529.94 739.622 1529.94 Q737.747 1529.94 735.872 1530.35 Q734.02 1530.77 732.075 1531.65 L732.075 1514.29 Z\" fill=\"#000000\" fill-rule=\"evenodd\" fill-opacity=\"1\" /><path clip-path=\"url(#clip410)\" d=\"M1215.92 1514.29 L1234.28 1514.29 L1234.28 1518.22 L1220.2 1518.22 L1220.2 1526.7 Q1221.22 1526.35 1222.24 1526.19 Q1223.26 1526 1224.28 1526 Q1230.07 1526 1233.44 1529.17 Q1236.82 1532.34 1236.82 1537.76 Q1236.82 1543.34 1233.35 1546.44 Q1229.88 1549.52 1223.56 1549.52 Q1221.38 1549.52 1219.12 1549.15 Q1216.87 1548.78 1214.46 1548.04 L1214.46 1543.34 Q1216.55 1544.47 1218.77 1545.03 Q1220.99 1545.58 1223.47 1545.58 Q1227.47 1545.58 1229.81 1543.48 Q1232.15 1541.37 1232.15 1537.76 Q1232.15 1534.15 1229.81 1532.04 Q1227.47 1529.94 1223.47 1529.94 Q1221.59 1529.94 1219.72 1530.35 Q1217.87 1530.77 1215.92 1531.65 L1215.92 1514.29 Z\" fill=\"#000000\" fill-rule=\"evenodd\" fill-opacity=\"1\" /><path clip-path=\"url(#clip410)\" d=\"M1256.04 1517.37 Q1252.43 1517.37 1250.6 1520.93 Q1248.79 1524.47 1248.79 1531.6 Q1248.79 1538.71 1250.6 1542.27 Q1252.43 1545.82 1256.04 1545.82 Q1259.67 1545.82 1261.48 1542.27 Q1263.31 1538.71 1263.31 1531.6 Q1263.31 1524.47 1261.48 1520.93 Q1259.67 1517.37 1256.04 1517.37 M1256.04 1513.66 Q1261.85 1513.66 1264.9 1518.27 Q1267.98 1522.85 1267.98 1531.6 Q1267.98 1540.33 1264.9 1544.94 Q1261.85 1549.52 1256.04 1549.52 Q1250.23 1549.52 1247.15 1544.94 Q1244.09 1540.33 1244.09 1531.6 Q1244.09 1522.85 1247.15 1518.27 Q1250.23 1513.66 1256.04 1513.66 Z\" fill=\"#000000\" fill-rule=\"evenodd\" fill-opacity=\"1\" /><path clip-path=\"url(#clip410)\" d=\"M1729.68 1514.29 L1751.9 1514.29 L1751.9 1516.28 L1739.35 1548.85 L1734.47 1548.85 L1746.27 1518.22 L1729.68 1518.22 L1729.68 1514.29 Z\" fill=\"#000000\" fill-rule=\"evenodd\" fill-opacity=\"1\" /><path clip-path=\"url(#clip410)\" d=\"M1761.06 1514.29 L1779.42 1514.29 L1779.42 1518.22 L1765.35 1518.22 L1765.35 1526.7 Q1766.37 1526.35 1767.38 1526.19 Q1768.4 1526 1769.42 1526 Q1775.21 1526 1778.59 1529.17 Q1781.97 1532.34 1781.97 1537.76 Q1781.97 1543.34 1778.49 1546.44 Q1775.02 1549.52 1768.7 1549.52 Q1766.53 1549.52 1764.26 1549.15 Q1762.01 1548.78 1759.61 1548.04 L1759.61 1543.34 Q1761.69 1544.47 1763.91 1545.03 Q1766.13 1545.58 1768.61 1545.58 Q1772.62 1545.58 1774.95 1543.48 Q1777.29 1541.37 1777.29 1537.76 Q1777.29 1534.15 1774.95 1532.04 Q1772.62 1529.94 1768.61 1529.94 Q1766.74 1529.94 1764.86 1530.35 Q1763.01 1530.77 1761.06 1531.65 L1761.06 1514.29 Z\" fill=\"#000000\" fill-rule=\"evenodd\" fill-opacity=\"1\" /><path clip-path=\"url(#clip410)\" d=\"M2230.03 1544.91 L2237.67 1544.91 L2237.67 1518.55 L2229.36 1520.21 L2229.36 1515.95 L2237.62 1514.29 L2242.3 1514.29 L2242.3 1544.91 L2249.93 1544.91 L2249.93 1548.85 L2230.03 1548.85 L2230.03 1544.91 Z\" fill=\"#000000\" fill-rule=\"evenodd\" fill-opacity=\"1\" /><path clip-path=\"url(#clip410)\" d=\"M2269.38 1517.37 Q2265.77 1517.37 2263.94 1520.93 Q2262.13 1524.47 2262.13 1531.6 Q2262.13 1538.71 2263.94 1542.27 Q2265.77 1545.82 2269.38 1545.82 Q2273.01 1545.82 2274.82 1542.27 Q2276.65 1538.71 2276.65 1531.6 Q2276.65 1524.47 2274.82 1520.93 Q2273.01 1517.37 2269.38 1517.37 M2269.38 1513.66 Q2275.19 1513.66 2278.24 1518.27 Q2281.32 1522.85 2281.32 1531.6 Q2281.32 1540.33 2278.24 1544.94 Q2275.19 1549.52 2269.38 1549.52 Q2263.57 1549.52 2260.49 1544.94 Q2257.43 1540.33 2257.43 1531.6 Q2257.43 1522.85 2260.49 1518.27 Q2263.57 1513.66 2269.38 1513.66 Z\" fill=\"#000000\" fill-rule=\"evenodd\" fill-opacity=\"1\" /><path clip-path=\"url(#clip410)\" d=\"M2299.54 1517.37 Q2295.93 1517.37 2294.1 1520.93 Q2292.29 1524.47 2292.29 1531.6 Q2292.29 1538.71 2294.1 1542.27 Q2295.93 1545.82 2299.54 1545.82 Q2303.17 1545.82 2304.98 1542.27 Q2306.81 1538.71 2306.81 1531.6 Q2306.81 1524.47 2304.98 1520.93 Q2303.17 1517.37 2299.54 1517.37 M2299.54 1513.66 Q2305.35 1513.66 2308.41 1518.27 Q2311.48 1522.85 2311.48 1531.6 Q2311.48 1540.33 2308.41 1544.94 Q2305.35 1549.52 2299.54 1549.52 Q2293.73 1549.52 2290.65 1544.94 Q2287.6 1540.33 2287.6 1531.6 Q2287.6 1522.85 2290.65 1518.27 Q2293.73 1513.66 2299.54 1513.66 Z\" fill=\"#000000\" fill-rule=\"evenodd\" fill-opacity=\"1\" /><polyline clip-path=\"url(#clip412)\" style=\"stroke:#000000; stroke-linecap:butt; stroke-linejoin:round; stroke-width:2; stroke-opacity:0.1; fill:none\" points=\"\n",
       "  170.857,1420.57 2352.76,1420.57 \n",
       "  \"/>\n",
       "<polyline clip-path=\"url(#clip412)\" style=\"stroke:#000000; stroke-linecap:butt; stroke-linejoin:round; stroke-width:2; stroke-opacity:0.1; fill:none\" points=\"\n",
       "  170.857,1169.14 2352.76,1169.14 \n",
       "  \"/>\n",
       "<polyline clip-path=\"url(#clip412)\" style=\"stroke:#000000; stroke-linecap:butt; stroke-linejoin:round; stroke-width:2; stroke-opacity:0.1; fill:none\" points=\"\n",
       "  170.857,917.706 2352.76,917.706 \n",
       "  \"/>\n",
       "<polyline clip-path=\"url(#clip412)\" style=\"stroke:#000000; stroke-linecap:butt; stroke-linejoin:round; stroke-width:2; stroke-opacity:0.1; fill:none\" points=\"\n",
       "  170.857,666.273 2352.76,666.273 \n",
       "  \"/>\n",
       "<polyline clip-path=\"url(#clip412)\" style=\"stroke:#000000; stroke-linecap:butt; stroke-linejoin:round; stroke-width:2; stroke-opacity:0.1; fill:none\" points=\"\n",
       "  170.857,414.839 2352.76,414.839 \n",
       "  \"/>\n",
       "<polyline clip-path=\"url(#clip412)\" style=\"stroke:#000000; stroke-linecap:butt; stroke-linejoin:round; stroke-width:2; stroke-opacity:0.1; fill:none\" points=\"\n",
       "  170.857,163.406 2352.76,163.406 \n",
       "  \"/>\n",
       "<polyline clip-path=\"url(#clip410)\" style=\"stroke:#000000; stroke-linecap:butt; stroke-linejoin:round; stroke-width:4; stroke-opacity:1; fill:none\" points=\"\n",
       "  170.857,1486.45 170.857,47.2441 \n",
       "  \"/>\n",
       "<polyline clip-path=\"url(#clip410)\" style=\"stroke:#000000; stroke-linecap:butt; stroke-linejoin:round; stroke-width:4; stroke-opacity:1; fill:none\" points=\"\n",
       "  170.857,1420.57 189.755,1420.57 \n",
       "  \"/>\n",
       "<polyline clip-path=\"url(#clip410)\" style=\"stroke:#000000; stroke-linecap:butt; stroke-linejoin:round; stroke-width:4; stroke-opacity:1; fill:none\" points=\"\n",
       "  170.857,1169.14 189.755,1169.14 \n",
       "  \"/>\n",
       "<polyline clip-path=\"url(#clip410)\" style=\"stroke:#000000; stroke-linecap:butt; stroke-linejoin:round; stroke-width:4; stroke-opacity:1; fill:none\" points=\"\n",
       "  170.857,917.706 189.755,917.706 \n",
       "  \"/>\n",
       "<polyline clip-path=\"url(#clip410)\" style=\"stroke:#000000; stroke-linecap:butt; stroke-linejoin:round; stroke-width:4; stroke-opacity:1; fill:none\" points=\"\n",
       "  170.857,666.273 189.755,666.273 \n",
       "  \"/>\n",
       "<polyline clip-path=\"url(#clip410)\" style=\"stroke:#000000; stroke-linecap:butt; stroke-linejoin:round; stroke-width:4; stroke-opacity:1; fill:none\" points=\"\n",
       "  170.857,414.839 189.755,414.839 \n",
       "  \"/>\n",
       "<polyline clip-path=\"url(#clip410)\" style=\"stroke:#000000; stroke-linecap:butt; stroke-linejoin:round; stroke-width:4; stroke-opacity:1; fill:none\" points=\"\n",
       "  170.857,163.406 189.755,163.406 \n",
       "  \"/>\n",
       "<path clip-path=\"url(#clip410)\" d=\"M122.913 1406.37 Q119.302 1406.37 117.473 1409.94 Q115.668 1413.48 115.668 1420.61 Q115.668 1427.71 117.473 1431.28 Q119.302 1434.82 122.913 1434.82 Q126.547 1434.82 128.353 1431.28 Q130.182 1427.71 130.182 1420.61 Q130.182 1413.48 128.353 1409.94 Q126.547 1406.37 122.913 1406.37 M122.913 1402.67 Q128.723 1402.67 131.779 1407.27 Q134.857 1411.86 134.857 1420.61 Q134.857 1429.33 131.779 1433.94 Q128.723 1438.52 122.913 1438.52 Q117.103 1438.52 114.024 1433.94 Q110.969 1429.33 110.969 1420.61 Q110.969 1411.86 114.024 1407.27 Q117.103 1402.67 122.913 1402.67 Z\" fill=\"#000000\" fill-rule=\"evenodd\" fill-opacity=\"1\" /><path clip-path=\"url(#clip410)\" d=\"M82.7975 1151.86 L101.154 1151.86 L101.154 1155.79 L87.0799 1155.79 L87.0799 1164.27 Q88.0984 1163.92 89.1169 1163.76 Q90.1354 1163.57 91.1539 1163.57 Q96.941 1163.57 100.321 1166.74 Q103.7 1169.91 103.7 1175.33 Q103.7 1180.91 100.228 1184.01 Q96.7558 1187.09 90.4364 1187.09 Q88.2604 1187.09 85.9919 1186.72 Q83.7466 1186.35 81.3392 1185.61 L81.3392 1180.91 Q83.4225 1182.04 85.6447 1182.6 Q87.8669 1183.16 90.3438 1183.16 Q94.3484 1183.16 96.6863 1181.05 Q99.0243 1178.94 99.0243 1175.33 Q99.0243 1171.72 96.6863 1169.61 Q94.3484 1167.51 90.3438 1167.51 Q88.4688 1167.51 86.5938 1167.92 Q84.7419 1168.34 82.7975 1169.22 L82.7975 1151.86 Z\" fill=\"#000000\" fill-rule=\"evenodd\" fill-opacity=\"1\" /><path clip-path=\"url(#clip410)\" d=\"M122.913 1154.94 Q119.302 1154.94 117.473 1158.5 Q115.668 1162.04 115.668 1169.17 Q115.668 1176.28 117.473 1179.85 Q119.302 1183.39 122.913 1183.39 Q126.547 1183.39 128.353 1179.85 Q130.182 1176.28 130.182 1169.17 Q130.182 1162.04 128.353 1158.5 Q126.547 1154.94 122.913 1154.94 M122.913 1151.23 Q128.723 1151.23 131.779 1155.84 Q134.857 1160.42 134.857 1169.17 Q134.857 1177.9 131.779 1182.51 Q128.723 1187.09 122.913 1187.09 Q117.103 1187.09 114.024 1182.51 Q110.969 1177.9 110.969 1169.17 Q110.969 1160.42 114.024 1155.84 Q117.103 1151.23 122.913 1151.23 Z\" fill=\"#000000\" fill-rule=\"evenodd\" fill-opacity=\"1\" /><path clip-path=\"url(#clip410)\" d=\"M53.3995 931.051 L61.0384 931.051 L61.0384 904.685 L52.7282 906.352 L52.7282 902.093 L60.9921 900.426 L65.668 900.426 L65.668 931.051 L73.3068 931.051 L73.3068 934.986 L53.3995 934.986 L53.3995 931.051 Z\" fill=\"#000000\" fill-rule=\"evenodd\" fill-opacity=\"1\" /><path clip-path=\"url(#clip410)\" d=\"M92.7512 903.505 Q89.1401 903.505 87.3114 907.069 Q85.5058 910.611 85.5058 917.741 Q85.5058 924.847 87.3114 928.412 Q89.1401 931.954 92.7512 931.954 Q96.3854 931.954 98.1909 928.412 Q100.02 924.847 100.02 917.741 Q100.02 910.611 98.1909 907.069 Q96.3854 903.505 92.7512 903.505 M92.7512 899.801 Q98.5613 899.801 101.617 904.407 Q104.696 908.991 104.696 917.741 Q104.696 926.467 101.617 931.074 Q98.5613 935.657 92.7512 935.657 Q86.941 935.657 83.8623 931.074 Q80.8068 926.467 80.8068 917.741 Q80.8068 908.991 83.8623 904.407 Q86.941 899.801 92.7512 899.801 Z\" fill=\"#000000\" fill-rule=\"evenodd\" fill-opacity=\"1\" /><path clip-path=\"url(#clip410)\" d=\"M122.913 903.505 Q119.302 903.505 117.473 907.069 Q115.668 910.611 115.668 917.741 Q115.668 924.847 117.473 928.412 Q119.302 931.954 122.913 931.954 Q126.547 931.954 128.353 928.412 Q130.182 924.847 130.182 917.741 Q130.182 910.611 128.353 907.069 Q126.547 903.505 122.913 903.505 M122.913 899.801 Q128.723 899.801 131.779 904.407 Q134.857 908.991 134.857 917.741 Q134.857 926.467 131.779 931.074 Q128.723 935.657 122.913 935.657 Q117.103 935.657 114.024 931.074 Q110.969 926.467 110.969 917.741 Q110.969 908.991 114.024 904.407 Q117.103 899.801 122.913 899.801 Z\" fill=\"#000000\" fill-rule=\"evenodd\" fill-opacity=\"1\" /><path clip-path=\"url(#clip410)\" d=\"M53.3995 679.618 L61.0384 679.618 L61.0384 653.252 L52.7282 654.919 L52.7282 650.659 L60.9921 648.993 L65.668 648.993 L65.668 679.618 L73.3068 679.618 L73.3068 683.553 L53.3995 683.553 L53.3995 679.618 Z\" fill=\"#000000\" fill-rule=\"evenodd\" fill-opacity=\"1\" /><path clip-path=\"url(#clip410)\" d=\"M82.7975 648.993 L101.154 648.993 L101.154 652.928 L87.0799 652.928 L87.0799 661.4 Q88.0984 661.053 89.1169 660.891 Q90.1354 660.706 91.1539 660.706 Q96.941 660.706 100.321 663.877 Q103.7 667.048 103.7 672.465 Q103.7 678.043 100.228 681.145 Q96.7558 684.224 90.4364 684.224 Q88.2604 684.224 85.9919 683.854 Q83.7466 683.483 81.3392 682.743 L81.3392 678.043 Q83.4225 679.178 85.6447 679.733 Q87.8669 680.289 90.3438 680.289 Q94.3484 680.289 96.6863 678.182 Q99.0243 676.076 99.0243 672.465 Q99.0243 668.854 96.6863 666.747 Q94.3484 664.641 90.3438 664.641 Q88.4688 664.641 86.5938 665.057 Q84.7419 665.474 82.7975 666.354 L82.7975 648.993 Z\" fill=\"#000000\" fill-rule=\"evenodd\" fill-opacity=\"1\" /><path clip-path=\"url(#clip410)\" d=\"M122.913 652.071 Q119.302 652.071 117.473 655.636 Q115.668 659.178 115.668 666.307 Q115.668 673.414 117.473 676.979 Q119.302 680.52 122.913 680.52 Q126.547 680.52 128.353 676.979 Q130.182 673.414 130.182 666.307 Q130.182 659.178 128.353 655.636 Q126.547 652.071 122.913 652.071 M122.913 648.368 Q128.723 648.368 131.779 652.974 Q134.857 657.557 134.857 666.307 Q134.857 675.034 131.779 679.641 Q128.723 684.224 122.913 684.224 Q117.103 684.224 114.024 679.641 Q110.969 675.034 110.969 666.307 Q110.969 657.557 114.024 652.974 Q117.103 648.368 122.913 648.368 Z\" fill=\"#000000\" fill-rule=\"evenodd\" fill-opacity=\"1\" /><path clip-path=\"url(#clip410)\" d=\"M56.6171 428.184 L72.9365 428.184 L72.9365 432.119 L50.9921 432.119 L50.9921 428.184 Q53.6541 425.43 58.2375 420.8 Q62.8439 416.147 64.0245 414.805 Q66.2698 412.282 67.1494 410.546 Q68.0522 408.786 68.0522 407.096 Q68.0522 404.342 66.1078 402.606 Q64.1865 400.87 61.0847 400.87 Q58.8856 400.87 56.4319 401.634 Q54.0014 402.397 51.2236 403.948 L51.2236 399.226 Q54.0477 398.092 56.5014 397.513 Q58.955 396.934 60.9921 396.934 Q66.3624 396.934 69.5568 399.62 Q72.7513 402.305 72.7513 406.796 Q72.7513 408.925 71.9411 410.846 Q71.1541 412.745 69.0476 415.337 Q68.4689 416.008 65.367 419.226 Q62.2652 422.42 56.6171 428.184 Z\" fill=\"#000000\" fill-rule=\"evenodd\" fill-opacity=\"1\" /><path clip-path=\"url(#clip410)\" d=\"M92.7512 400.638 Q89.1401 400.638 87.3114 404.203 Q85.5058 407.745 85.5058 414.874 Q85.5058 421.981 87.3114 425.545 Q89.1401 429.087 92.7512 429.087 Q96.3854 429.087 98.1909 425.545 Q100.02 421.981 100.02 414.874 Q100.02 407.745 98.1909 404.203 Q96.3854 400.638 92.7512 400.638 M92.7512 396.934 Q98.5613 396.934 101.617 401.541 Q104.696 406.124 104.696 414.874 Q104.696 423.601 101.617 428.207 Q98.5613 432.791 92.7512 432.791 Q86.941 432.791 83.8623 428.207 Q80.8068 423.601 80.8068 414.874 Q80.8068 406.124 83.8623 401.541 Q86.941 396.934 92.7512 396.934 Z\" fill=\"#000000\" fill-rule=\"evenodd\" fill-opacity=\"1\" /><path clip-path=\"url(#clip410)\" d=\"M122.913 400.638 Q119.302 400.638 117.473 404.203 Q115.668 407.745 115.668 414.874 Q115.668 421.981 117.473 425.545 Q119.302 429.087 122.913 429.087 Q126.547 429.087 128.353 425.545 Q130.182 421.981 130.182 414.874 Q130.182 407.745 128.353 404.203 Q126.547 400.638 122.913 400.638 M122.913 396.934 Q128.723 396.934 131.779 401.541 Q134.857 406.124 134.857 414.874 Q134.857 423.601 131.779 428.207 Q128.723 432.791 122.913 432.791 Q117.103 432.791 114.024 428.207 Q110.969 423.601 110.969 414.874 Q110.969 406.124 114.024 401.541 Q117.103 396.934 122.913 396.934 Z\" fill=\"#000000\" fill-rule=\"evenodd\" fill-opacity=\"1\" /><path clip-path=\"url(#clip410)\" d=\"M56.6171 176.751 L72.9365 176.751 L72.9365 180.686 L50.9921 180.686 L50.9921 176.751 Q53.6541 173.996 58.2375 169.367 Q62.8439 164.714 64.0245 163.372 Q66.2698 160.848 67.1494 159.112 Q68.0522 157.353 68.0522 155.663 Q68.0522 152.909 66.1078 151.173 Q64.1865 149.436 61.0847 149.436 Q58.8856 149.436 56.4319 150.2 Q54.0014 150.964 51.2236 152.515 L51.2236 147.793 Q54.0477 146.659 56.5014 146.08 Q58.955 145.501 60.9921 145.501 Q66.3624 145.501 69.5568 148.186 Q72.7513 150.872 72.7513 155.362 Q72.7513 157.492 71.9411 159.413 Q71.1541 161.311 69.0476 163.904 Q68.4689 164.575 65.367 167.793 Q62.2652 170.987 56.6171 176.751 Z\" fill=\"#000000\" fill-rule=\"evenodd\" fill-opacity=\"1\" /><path clip-path=\"url(#clip410)\" d=\"M82.7975 146.126 L101.154 146.126 L101.154 150.061 L87.0799 150.061 L87.0799 158.534 Q88.0984 158.186 89.1169 158.024 Q90.1354 157.839 91.1539 157.839 Q96.941 157.839 100.321 161.01 Q103.7 164.182 103.7 169.598 Q103.7 175.177 100.228 178.279 Q96.7558 181.358 90.4364 181.358 Q88.2604 181.358 85.9919 180.987 Q83.7466 180.617 81.3392 179.876 L81.3392 175.177 Q83.4225 176.311 85.6447 176.867 Q87.8669 177.422 90.3438 177.422 Q94.3484 177.422 96.6863 175.316 Q99.0243 173.209 99.0243 169.598 Q99.0243 165.987 96.6863 163.881 Q94.3484 161.774 90.3438 161.774 Q88.4688 161.774 86.5938 162.191 Q84.7419 162.608 82.7975 163.487 L82.7975 146.126 Z\" fill=\"#000000\" fill-rule=\"evenodd\" fill-opacity=\"1\" /><path clip-path=\"url(#clip410)\" d=\"M122.913 149.205 Q119.302 149.205 117.473 152.77 Q115.668 156.311 115.668 163.441 Q115.668 170.547 117.473 174.112 Q119.302 177.654 122.913 177.654 Q126.547 177.654 128.353 174.112 Q130.182 170.547 130.182 163.441 Q130.182 156.311 128.353 152.77 Q126.547 149.205 122.913 149.205 M122.913 145.501 Q128.723 145.501 131.779 150.108 Q134.857 154.691 134.857 163.441 Q134.857 172.168 131.779 176.774 Q128.723 181.358 122.913 181.358 Q117.103 181.358 114.024 176.774 Q110.969 172.168 110.969 163.441 Q110.969 154.691 114.024 150.108 Q117.103 145.501 122.913 145.501 Z\" fill=\"#000000\" fill-rule=\"evenodd\" fill-opacity=\"1\" /><polyline clip-path=\"url(#clip412)\" style=\"stroke:#009af9; stroke-linecap:butt; stroke-linejoin:round; stroke-width:4; stroke-opacity:1; fill:none\" points=\"\n",
       "  232.609,1352.69 253.193,1355.17 273.777,1357.61 294.361,1360 314.945,1362.34 335.529,1364.63 356.113,1366.87 376.697,1369.05 397.281,1371.19 417.865,1373.28 \n",
       "  438.449,1375.31 459.033,1377.3 479.617,1379.24 500.201,1381.12 520.785,1382.96 541.368,1384.74 561.952,1386.48 582.536,1388.16 603.12,1389.8 623.704,1391.38 \n",
       "  644.288,1392.91 664.872,1394.4 685.456,1395.83 706.04,1397.21 726.624,1398.55 747.208,1399.83 767.792,1401.06 788.376,1402.24 808.96,1403.37 829.544,1404.46 \n",
       "  850.128,1405.49 870.712,1406.47 891.296,1407.4 911.88,1408.28 932.463,1409.11 953.047,1409.89 973.631,1410.62 994.215,1411.29 1014.8,1411.92 1035.38,1412.5 \n",
       "  1055.97,1413.03 1076.55,1413.51 1097.14,1413.93 1117.72,1414.31 1138.3,1414.64 1158.89,1414.92 1179.47,1415.14 1200.05,1415.32 1220.64,1415.44 1241.22,1415.52 \n",
       "  1261.81,1415.54 1282.39,1419.05 1302.97,1417.47 1323.56,1415.78 1344.14,1413.89 1364.73,1411.77 1385.31,1409.35 1405.89,1406.56 1426.48,1403.35 1447.06,1399.66 \n",
       "  1467.65,1395.43 1488.23,1390.59 1508.81,1385.09 1529.4,1378.86 1549.98,1371.85 1570.57,1364 1591.15,1355.24 1611.73,1345.51 1632.32,1334.76 1652.9,1322.93 \n",
       "  1673.49,1309.94 1694.07,1295.75 1714.65,1280.29 1735.24,1263.51 1755.82,1245.33 1776.41,1225.71 1796.99,1204.58 1817.57,1181.88 1838.16,1157.55 1858.74,1131.53 \n",
       "  1879.33,1103.77 1899.91,1074.19 1920.49,1042.74 1941.08,1009.36 1961.66,973.987 1982.24,936.563 2002.83,897.028 2023.41,855.32 2044,811.38 2064.58,765.146 \n",
       "  2085.16,716.559 2105.75,665.559 2126.33,612.084 2146.92,556.075 2167.5,497.47 2188.08,436.211 2208.67,372.237 2229.25,305.486 2249.84,235.899 2270.42,163.416 \n",
       "  2291,87.9763 \n",
       "  \"/>\n",
       "<polyline clip-path=\"url(#clip412)\" style=\"stroke:#e26f46; stroke-linecap:butt; stroke-linejoin:round; stroke-width:4; stroke-opacity:1; fill:none\" points=\"\n",
       "  232.609,1445.72 253.193,1445.21 273.777,1444.71 294.361,1444.21 314.945,1443.7 335.529,1443.2 356.113,1442.7 376.697,1442.2 397.281,1441.69 417.865,1441.19 \n",
       "  438.449,1440.69 459.033,1440.18 479.617,1439.68 500.201,1439.18 520.785,1438.68 541.368,1438.17 561.952,1437.67 582.536,1437.17 603.12,1436.66 623.704,1436.16 \n",
       "  644.288,1435.66 664.872,1435.16 685.456,1434.65 706.04,1434.15 726.624,1433.65 747.208,1433.14 767.792,1432.64 788.376,1432.14 808.96,1431.64 829.544,1431.13 \n",
       "  850.128,1430.63 870.712,1430.13 891.296,1429.62 911.88,1429.12 932.463,1428.62 953.047,1428.12 973.631,1427.61 994.215,1427.11 1014.8,1426.61 1035.38,1426.1 \n",
       "  1055.97,1425.6 1076.55,1425.1 1097.14,1424.6 1117.72,1424.09 1138.3,1423.59 1158.89,1423.09 1179.47,1422.58 1200.05,1422.08 1220.64,1421.58 1241.22,1421.08 \n",
       "  1261.81,1420.57 1282.39,1405.18 1302.97,1404.28 1323.56,1402.77 1344.14,1400.66 1364.73,1397.94 1385.31,1394.62 1405.89,1390.7 1426.48,1386.18 1447.06,1381.05 \n",
       "  1467.65,1375.31 1488.23,1368.98 1508.81,1362.04 1529.4,1354.5 1549.98,1346.35 1570.57,1337.6 1591.15,1328.25 1611.73,1318.29 1632.32,1307.73 1652.9,1296.57 \n",
       "  1673.49,1284.8 1694.07,1272.43 1714.65,1259.45 1735.24,1245.88 1755.82,1231.7 1776.41,1216.91 1796.99,1201.52 1817.57,1185.53 1838.16,1168.94 1858.74,1151.74 \n",
       "  1879.33,1133.94 1899.91,1115.53 1920.49,1096.53 1941.08,1076.91 1961.66,1056.7 1982.24,1035.88 2002.83,1014.46 2023.41,992.432 2044,969.803 2064.58,946.57 \n",
       "  2085.16,922.735 2105.75,898.295 2126.33,873.253 2146.92,847.606 2167.5,821.357 2188.08,794.504 2208.67,767.047 2229.25,738.987 2249.84,710.324 2270.42,681.057 \n",
       "  2291,651.187 \n",
       "  \"/>\n",
       "<path clip-path=\"url(#clip410)\" d=\"\n",
       "M1627.06 250.738 L2280.03 250.738 L2280.03 95.2176 L1627.06 95.2176  Z\n",
       "  \" fill=\"#ffffff\" fill-rule=\"evenodd\" fill-opacity=\"1\"/>\n",
       "<polyline clip-path=\"url(#clip410)\" style=\"stroke:#000000; stroke-linecap:butt; stroke-linejoin:round; stroke-width:4; stroke-opacity:1; fill:none\" points=\"\n",
       "  1627.06,250.738 2280.03,250.738 2280.03,95.2176 1627.06,95.2176 1627.06,250.738 \n",
       "  \"/>\n",
       "<polyline clip-path=\"url(#clip410)\" style=\"stroke:#009af9; stroke-linecap:butt; stroke-linejoin:round; stroke-width:4; stroke-opacity:1; fill:none\" points=\"\n",
       "  1651.31,147.058 1796.77,147.058 \n",
       "  \"/>\n",
       "<path clip-path=\"url(#clip410)\" d=\"M1841.36 143.389 Q1842.95 140.518 1845.18 139.153 Q1847.4 137.787 1850.41 137.787 Q1854.46 137.787 1856.66 140.634 Q1858.86 143.458 1858.86 148.689 L1858.86 164.338 L1854.57 164.338 L1854.57 148.828 Q1854.57 145.102 1853.25 143.296 Q1851.93 141.49 1849.23 141.49 Q1845.92 141.49 1844 143.69 Q1842.07 145.889 1842.07 149.685 L1842.07 164.338 L1837.79 164.338 L1837.79 148.828 Q1837.79 145.078 1836.47 143.296 Q1835.15 141.49 1832.4 141.49 Q1829.13 141.49 1827.21 143.713 Q1825.29 145.912 1825.29 149.685 L1825.29 164.338 L1821.01 164.338 L1821.01 138.412 L1825.29 138.412 L1825.29 142.44 Q1826.75 140.055 1828.79 138.921 Q1830.82 137.787 1833.62 137.787 Q1836.45 137.787 1838.42 139.222 Q1840.41 140.657 1841.36 143.389 Z\" fill=\"#000000\" fill-rule=\"evenodd\" fill-opacity=\"1\" /><path clip-path=\"url(#clip410)\" d=\"M1878.14 166.745 Q1876.33 171.375 1874.62 172.787 Q1872.91 174.199 1870.04 174.199 L1866.63 174.199 L1866.63 170.634 L1869.13 170.634 Q1870.89 170.634 1871.87 169.8 Q1872.84 168.967 1874.02 165.865 L1874.78 163.921 L1864.3 138.412 L1868.81 138.412 L1876.91 158.689 L1885.01 138.412 L1889.53 138.412 L1878.14 166.745 Z\" fill=\"#000000\" fill-rule=\"evenodd\" fill-opacity=\"1\" /><path clip-path=\"url(#clip410)\" d=\"M1915.11 172.208 L1915.11 175.518 L1890.48 175.518 L1890.48 172.208 L1915.11 172.208 Z\" fill=\"#000000\" fill-rule=\"evenodd\" fill-opacity=\"1\" /><path clip-path=\"url(#clip410)\" d=\"M1923.32 131.051 L1923.32 138.412 L1932.1 138.412 L1932.1 141.722 L1923.32 141.722 L1923.32 155.796 Q1923.32 158.967 1924.18 159.87 Q1925.06 160.773 1927.72 160.773 L1932.1 160.773 L1932.1 164.338 L1927.72 164.338 Q1922.79 164.338 1920.92 162.509 Q1919.04 160.657 1919.04 155.796 L1919.04 141.722 L1915.92 141.722 L1915.92 138.412 L1919.04 138.412 L1919.04 131.051 L1923.32 131.051 Z\" fill=\"#000000\" fill-rule=\"evenodd\" fill-opacity=\"1\" /><path clip-path=\"url(#clip410)\" d=\"M1959.87 150.31 L1959.87 152.393 L1940.29 152.393 Q1940.57 156.791 1942.93 159.106 Q1945.31 161.398 1949.55 161.398 Q1952 161.398 1954.3 160.796 Q1956.61 160.194 1958.88 158.99 L1958.88 163.018 Q1956.59 163.99 1954.18 164.5 Q1951.77 165.009 1949.3 165.009 Q1943.09 165.009 1939.46 161.398 Q1935.85 157.787 1935.85 151.629 Q1935.85 145.264 1939.27 141.537 Q1942.72 137.787 1948.55 137.787 Q1953.79 137.787 1956.82 141.166 Q1959.87 144.523 1959.87 150.31 M1955.61 149.06 Q1955.57 145.565 1953.65 143.481 Q1951.75 141.398 1948.6 141.398 Q1945.04 141.398 1942.88 143.412 Q1940.75 145.426 1940.43 149.083 L1955.61 149.06 Z\" fill=\"#000000\" fill-rule=\"evenodd\" fill-opacity=\"1\" /><path clip-path=\"url(#clip410)\" d=\"M1983.39 139.176 L1983.39 143.203 Q1981.59 142.277 1979.64 141.815 Q1977.7 141.352 1975.61 141.352 Q1972.44 141.352 1970.85 142.324 Q1969.27 143.296 1969.27 145.24 Q1969.27 146.722 1970.41 147.578 Q1971.54 148.412 1974.97 149.176 L1976.42 149.5 Q1980.96 150.472 1982.86 152.254 Q1984.78 154.014 1984.78 157.185 Q1984.78 160.796 1981.91 162.902 Q1979.06 165.009 1974.06 165.009 Q1971.98 165.009 1969.71 164.592 Q1967.47 164.199 1964.97 163.388 L1964.97 158.99 Q1967.33 160.217 1969.62 160.842 Q1971.91 161.444 1974.16 161.444 Q1977.17 161.444 1978.79 160.426 Q1980.41 159.384 1980.41 157.509 Q1980.41 155.773 1979.23 154.847 Q1978.07 153.921 1974.11 153.064 L1972.63 152.717 Q1968.67 151.884 1966.91 150.171 Q1965.15 148.435 1965.15 145.426 Q1965.15 141.768 1967.74 139.778 Q1970.34 137.787 1975.11 137.787 Q1977.47 137.787 1979.55 138.134 Q1981.63 138.481 1983.39 139.176 Z\" fill=\"#000000\" fill-rule=\"evenodd\" fill-opacity=\"1\" /><path clip-path=\"url(#clip410)\" d=\"M1995.78 131.051 L1995.78 138.412 L2004.55 138.412 L2004.55 141.722 L1995.78 141.722 L1995.78 155.796 Q1995.78 158.967 1996.63 159.87 Q1997.51 160.773 2000.17 160.773 L2004.55 160.773 L2004.55 164.338 L2000.17 164.338 Q1995.24 164.338 1993.37 162.509 Q1991.49 160.657 1991.49 155.796 L1991.49 141.722 L1988.37 141.722 L1988.37 138.412 L1991.49 138.412 L1991.49 131.051 L1995.78 131.051 Z\" fill=\"#000000\" fill-rule=\"evenodd\" fill-opacity=\"1\" /><path clip-path=\"url(#clip410)\" d=\"M2029.85 172.208 L2029.85 175.518 L2005.22 175.518 L2005.22 172.208 L2029.85 172.208 Z\" fill=\"#000000\" fill-rule=\"evenodd\" fill-opacity=\"1\" /><path clip-path=\"url(#clip410)\" d=\"M2046.98 128.319 L2046.98 131.861 L2042.91 131.861 Q2040.61 131.861 2039.71 132.787 Q2038.83 133.713 2038.83 136.12 L2038.83 138.412 L2045.85 138.412 L2045.85 141.722 L2038.83 141.722 L2038.83 164.338 L2034.55 164.338 L2034.55 141.722 L2030.48 141.722 L2030.48 138.412 L2034.55 138.412 L2034.55 136.606 Q2034.55 132.278 2036.56 130.31 Q2038.58 128.319 2042.95 128.319 L2046.98 128.319 Z\" fill=\"#000000\" fill-rule=\"evenodd\" fill-opacity=\"1\" /><path clip-path=\"url(#clip410)\" d=\"M2050.11 154.106 L2050.11 138.412 L2054.36 138.412 L2054.36 153.944 Q2054.36 157.625 2055.8 159.476 Q2057.23 161.305 2060.11 161.305 Q2063.55 161.305 2065.54 159.106 Q2067.56 156.907 2067.56 153.111 L2067.56 138.412 L2071.82 138.412 L2071.82 164.338 L2067.56 164.338 L2067.56 160.356 Q2066.01 162.717 2063.95 163.875 Q2061.91 165.009 2059.2 165.009 Q2054.73 165.009 2052.42 162.231 Q2050.11 159.453 2050.11 154.106 M2060.82 137.787 L2060.82 137.787 Z\" fill=\"#000000\" fill-rule=\"evenodd\" fill-opacity=\"1\" /><path clip-path=\"url(#clip410)\" d=\"M2102.14 148.689 L2102.14 164.338 L2097.88 164.338 L2097.88 148.828 Q2097.88 145.148 2096.45 143.319 Q2095.01 141.49 2092.14 141.49 Q2088.69 141.49 2086.7 143.69 Q2084.71 145.889 2084.71 149.685 L2084.71 164.338 L2080.43 164.338 L2080.43 138.412 L2084.71 138.412 L2084.71 142.44 Q2086.24 140.102 2088.3 138.944 Q2090.38 137.787 2093.09 137.787 Q2097.56 137.787 2099.85 140.565 Q2102.14 143.319 2102.14 148.689 Z\" fill=\"#000000\" fill-rule=\"evenodd\" fill-opacity=\"1\" /><path clip-path=\"url(#clip410)\" d=\"M2129.29 139.407 L2129.29 143.389 Q2127.49 142.393 2125.66 141.907 Q2123.85 141.398 2122 141.398 Q2117.86 141.398 2115.57 144.037 Q2113.28 146.652 2113.28 151.398 Q2113.28 156.143 2115.57 158.782 Q2117.86 161.398 2122 161.398 Q2123.85 161.398 2125.66 160.912 Q2127.49 160.402 2129.29 159.407 L2129.29 163.342 Q2127.51 164.176 2125.59 164.592 Q2123.69 165.009 2121.54 165.009 Q2115.68 165.009 2112.23 161.328 Q2108.79 157.648 2108.79 151.398 Q2108.79 145.055 2112.26 141.421 Q2115.75 137.787 2121.82 137.787 Q2123.79 137.787 2125.66 138.203 Q2127.54 138.597 2129.29 139.407 Z\" fill=\"#000000\" fill-rule=\"evenodd\" fill-opacity=\"1\" /><path clip-path=\"url(#clip410)\" d=\"M2140.91 131.051 L2140.91 138.412 L2149.69 138.412 L2149.69 141.722 L2140.91 141.722 L2140.91 155.796 Q2140.91 158.967 2141.77 159.87 Q2142.65 160.773 2145.31 160.773 L2149.69 160.773 L2149.69 164.338 L2145.31 164.338 Q2140.38 164.338 2138.51 162.509 Q2136.63 160.657 2136.63 155.796 L2136.63 141.722 L2133.51 141.722 L2133.51 138.412 L2136.63 138.412 L2136.63 131.051 L2140.91 131.051 Z\" fill=\"#000000\" fill-rule=\"evenodd\" fill-opacity=\"1\" /><path clip-path=\"url(#clip410)\" d=\"M2155.29 138.412 L2159.55 138.412 L2159.55 164.338 L2155.29 164.338 L2155.29 138.412 M2155.29 128.319 L2159.55 128.319 L2159.55 133.713 L2155.29 133.713 L2155.29 128.319 Z\" fill=\"#000000\" fill-rule=\"evenodd\" fill-opacity=\"1\" /><path clip-path=\"url(#clip410)\" d=\"M2178.51 141.398 Q2175.08 141.398 2173.09 144.083 Q2171.1 146.745 2171.1 151.398 Q2171.1 156.051 2173.07 158.736 Q2175.06 161.398 2178.51 161.398 Q2181.91 161.398 2183.9 158.713 Q2185.89 156.027 2185.89 151.398 Q2185.89 146.791 2183.9 144.106 Q2181.91 141.398 2178.51 141.398 M2178.51 137.787 Q2184.06 137.787 2187.23 141.398 Q2190.41 145.009 2190.41 151.398 Q2190.41 157.764 2187.23 161.398 Q2184.06 165.009 2178.51 165.009 Q2172.93 165.009 2169.76 161.398 Q2166.61 157.764 2166.61 151.398 Q2166.61 145.009 2169.76 141.398 Q2172.93 137.787 2178.51 137.787 Z\" fill=\"#000000\" fill-rule=\"evenodd\" fill-opacity=\"1\" /><path clip-path=\"url(#clip410)\" d=\"M2219.02 148.689 L2219.02 164.338 L2214.76 164.338 L2214.76 148.828 Q2214.76 145.148 2213.32 143.319 Q2211.89 141.49 2209.02 141.49 Q2205.57 141.49 2203.58 143.69 Q2201.59 145.889 2201.59 149.685 L2201.59 164.338 L2197.3 164.338 L2197.3 138.412 L2201.59 138.412 L2201.59 142.44 Q2203.11 140.102 2205.17 138.944 Q2207.26 137.787 2209.97 137.787 Q2214.43 137.787 2216.72 140.565 Q2219.02 143.319 2219.02 148.689 Z\" fill=\"#000000\" fill-rule=\"evenodd\" fill-opacity=\"1\" /><polyline clip-path=\"url(#clip410)\" style=\"stroke:#e26f46; stroke-linecap:butt; stroke-linejoin:round; stroke-width:4; stroke-opacity:1; fill:none\" points=\"\n",
       "  1651.31,198.898 1796.77,198.898 \n",
       "  \"/>\n",
       "<path clip-path=\"url(#clip410)\" d=\"M1841.36 195.229 Q1842.95 192.358 1845.18 190.993 Q1847.4 189.627 1850.41 189.627 Q1854.46 189.627 1856.66 192.474 Q1858.86 195.298 1858.86 200.529 L1858.86 216.178 L1854.57 216.178 L1854.57 200.668 Q1854.57 196.942 1853.25 195.136 Q1851.93 193.33 1849.23 193.33 Q1845.92 193.33 1844 195.53 Q1842.07 197.729 1842.07 201.525 L1842.07 216.178 L1837.79 216.178 L1837.79 200.668 Q1837.79 196.918 1836.47 195.136 Q1835.15 193.33 1832.4 193.33 Q1829.13 193.33 1827.21 195.553 Q1825.29 197.752 1825.29 201.525 L1825.29 216.178 L1821.01 216.178 L1821.01 190.252 L1825.29 190.252 L1825.29 194.28 Q1826.75 191.895 1828.79 190.761 Q1830.82 189.627 1833.62 189.627 Q1836.45 189.627 1838.42 191.062 Q1840.41 192.497 1841.36 195.229 Z\" fill=\"#000000\" fill-rule=\"evenodd\" fill-opacity=\"1\" /><path clip-path=\"url(#clip410)\" d=\"M1878.14 218.585 Q1876.33 223.215 1874.62 224.627 Q1872.91 226.039 1870.04 226.039 L1866.63 226.039 L1866.63 222.474 L1869.13 222.474 Q1870.89 222.474 1871.87 221.64 Q1872.84 220.807 1874.02 217.705 L1874.78 215.761 L1864.3 190.252 L1868.81 190.252 L1876.91 210.529 L1885.01 190.252 L1889.53 190.252 L1878.14 218.585 Z\" fill=\"#000000\" fill-rule=\"evenodd\" fill-opacity=\"1\" /><path clip-path=\"url(#clip410)\" d=\"M1915.11 224.048 L1915.11 227.358 L1890.48 227.358 L1890.48 224.048 L1915.11 224.048 Z\" fill=\"#000000\" fill-rule=\"evenodd\" fill-opacity=\"1\" /><path clip-path=\"url(#clip410)\" d=\"M1923.32 182.891 L1923.32 190.252 L1932.1 190.252 L1932.1 193.562 L1923.32 193.562 L1923.32 207.636 Q1923.32 210.807 1924.18 211.71 Q1925.06 212.613 1927.72 212.613 L1932.1 212.613 L1932.1 216.178 L1927.72 216.178 Q1922.79 216.178 1920.92 214.349 Q1919.04 212.497 1919.04 207.636 L1919.04 193.562 L1915.92 193.562 L1915.92 190.252 L1919.04 190.252 L1919.04 182.891 L1923.32 182.891 Z\" fill=\"#000000\" fill-rule=\"evenodd\" fill-opacity=\"1\" /><path clip-path=\"url(#clip410)\" d=\"M1959.87 202.15 L1959.87 204.233 L1940.29 204.233 Q1940.57 208.631 1942.93 210.946 Q1945.31 213.238 1949.55 213.238 Q1952 213.238 1954.3 212.636 Q1956.61 212.034 1958.88 210.83 L1958.88 214.858 Q1956.59 215.83 1954.18 216.34 Q1951.77 216.849 1949.3 216.849 Q1943.09 216.849 1939.46 213.238 Q1935.85 209.627 1935.85 203.469 Q1935.85 197.104 1939.27 193.377 Q1942.72 189.627 1948.55 189.627 Q1953.79 189.627 1956.82 193.006 Q1959.87 196.363 1959.87 202.15 M1955.61 200.9 Q1955.57 197.405 1953.65 195.321 Q1951.75 193.238 1948.6 193.238 Q1945.04 193.238 1942.88 195.252 Q1940.75 197.266 1940.43 200.923 L1955.61 200.9 Z\" fill=\"#000000\" fill-rule=\"evenodd\" fill-opacity=\"1\" /><path clip-path=\"url(#clip410)\" d=\"M1983.39 191.016 L1983.39 195.043 Q1981.59 194.117 1979.64 193.655 Q1977.7 193.192 1975.61 193.192 Q1972.44 193.192 1970.85 194.164 Q1969.27 195.136 1969.27 197.08 Q1969.27 198.562 1970.41 199.418 Q1971.54 200.252 1974.97 201.016 L1976.42 201.34 Q1980.96 202.312 1982.86 204.094 Q1984.78 205.854 1984.78 209.025 Q1984.78 212.636 1981.91 214.742 Q1979.06 216.849 1974.06 216.849 Q1971.98 216.849 1969.71 216.432 Q1967.47 216.039 1964.97 215.228 L1964.97 210.83 Q1967.33 212.057 1969.62 212.682 Q1971.91 213.284 1974.16 213.284 Q1977.17 213.284 1978.79 212.266 Q1980.41 211.224 1980.41 209.349 Q1980.41 207.613 1979.23 206.687 Q1978.07 205.761 1974.11 204.904 L1972.63 204.557 Q1968.67 203.724 1966.91 202.011 Q1965.15 200.275 1965.15 197.266 Q1965.15 193.608 1967.74 191.618 Q1970.34 189.627 1975.11 189.627 Q1977.47 189.627 1979.55 189.974 Q1981.63 190.321 1983.39 191.016 Z\" fill=\"#000000\" fill-rule=\"evenodd\" fill-opacity=\"1\" /><path clip-path=\"url(#clip410)\" d=\"M1995.78 182.891 L1995.78 190.252 L2004.55 190.252 L2004.55 193.562 L1995.78 193.562 L1995.78 207.636 Q1995.78 210.807 1996.63 211.71 Q1997.51 212.613 2000.17 212.613 L2004.55 212.613 L2004.55 216.178 L2000.17 216.178 Q1995.24 216.178 1993.37 214.349 Q1991.49 212.497 1991.49 207.636 L1991.49 193.562 L1988.37 193.562 L1988.37 190.252 L1991.49 190.252 L1991.49 182.891 L1995.78 182.891 Z\" fill=\"#000000\" fill-rule=\"evenodd\" fill-opacity=\"1\" /><path clip-path=\"url(#clip410)\" d=\"M2029.85 224.048 L2029.85 227.358 L2005.22 227.358 L2005.22 224.048 L2029.85 224.048 Z\" fill=\"#000000\" fill-rule=\"evenodd\" fill-opacity=\"1\" /><path clip-path=\"url(#clip410)\" d=\"M2046.98 180.159 L2046.98 183.701 L2042.91 183.701 Q2040.61 183.701 2039.71 184.627 Q2038.83 185.553 2038.83 187.96 L2038.83 190.252 L2045.85 190.252 L2045.85 193.562 L2038.83 193.562 L2038.83 216.178 L2034.55 216.178 L2034.55 193.562 L2030.48 193.562 L2030.48 190.252 L2034.55 190.252 L2034.55 188.446 Q2034.55 184.118 2036.56 182.15 Q2038.58 180.159 2042.95 180.159 L2046.98 180.159 Z\" fill=\"#000000\" fill-rule=\"evenodd\" fill-opacity=\"1\" /><path clip-path=\"url(#clip410)\" d=\"M2050.11 205.946 L2050.11 190.252 L2054.36 190.252 L2054.36 205.784 Q2054.36 209.465 2055.8 211.316 Q2057.23 213.145 2060.11 213.145 Q2063.55 213.145 2065.54 210.946 Q2067.56 208.747 2067.56 204.951 L2067.56 190.252 L2071.82 190.252 L2071.82 216.178 L2067.56 216.178 L2067.56 212.196 Q2066.01 214.557 2063.95 215.715 Q2061.91 216.849 2059.2 216.849 Q2054.73 216.849 2052.42 214.071 Q2050.11 211.293 2050.11 205.946 M2060.82 189.627 L2060.82 189.627 Z\" fill=\"#000000\" fill-rule=\"evenodd\" fill-opacity=\"1\" /><path clip-path=\"url(#clip410)\" d=\"M2102.14 200.529 L2102.14 216.178 L2097.88 216.178 L2097.88 200.668 Q2097.88 196.988 2096.45 195.159 Q2095.01 193.33 2092.14 193.33 Q2088.69 193.33 2086.7 195.53 Q2084.71 197.729 2084.71 201.525 L2084.71 216.178 L2080.43 216.178 L2080.43 190.252 L2084.71 190.252 L2084.71 194.28 Q2086.24 191.942 2088.3 190.784 Q2090.38 189.627 2093.09 189.627 Q2097.56 189.627 2099.85 192.405 Q2102.14 195.159 2102.14 200.529 Z\" fill=\"#000000\" fill-rule=\"evenodd\" fill-opacity=\"1\" /><path clip-path=\"url(#clip410)\" d=\"M2129.29 191.247 L2129.29 195.229 Q2127.49 194.233 2125.66 193.747 Q2123.85 193.238 2122 193.238 Q2117.86 193.238 2115.57 195.877 Q2113.28 198.492 2113.28 203.238 Q2113.28 207.983 2115.57 210.622 Q2117.86 213.238 2122 213.238 Q2123.85 213.238 2125.66 212.752 Q2127.49 212.242 2129.29 211.247 L2129.29 215.182 Q2127.51 216.016 2125.59 216.432 Q2123.69 216.849 2121.54 216.849 Q2115.68 216.849 2112.23 213.168 Q2108.79 209.488 2108.79 203.238 Q2108.79 196.895 2112.26 193.261 Q2115.75 189.627 2121.82 189.627 Q2123.79 189.627 2125.66 190.043 Q2127.54 190.437 2129.29 191.247 Z\" fill=\"#000000\" fill-rule=\"evenodd\" fill-opacity=\"1\" /><path clip-path=\"url(#clip410)\" d=\"M2140.91 182.891 L2140.91 190.252 L2149.69 190.252 L2149.69 193.562 L2140.91 193.562 L2140.91 207.636 Q2140.91 210.807 2141.77 211.71 Q2142.65 212.613 2145.31 212.613 L2149.69 212.613 L2149.69 216.178 L2145.31 216.178 Q2140.38 216.178 2138.51 214.349 Q2136.63 212.497 2136.63 207.636 L2136.63 193.562 L2133.51 193.562 L2133.51 190.252 L2136.63 190.252 L2136.63 182.891 L2140.91 182.891 Z\" fill=\"#000000\" fill-rule=\"evenodd\" fill-opacity=\"1\" /><path clip-path=\"url(#clip410)\" d=\"M2155.29 190.252 L2159.55 190.252 L2159.55 216.178 L2155.29 216.178 L2155.29 190.252 M2155.29 180.159 L2159.55 180.159 L2159.55 185.553 L2155.29 185.553 L2155.29 180.159 Z\" fill=\"#000000\" fill-rule=\"evenodd\" fill-opacity=\"1\" /><path clip-path=\"url(#clip410)\" d=\"M2178.51 193.238 Q2175.08 193.238 2173.09 195.923 Q2171.1 198.585 2171.1 203.238 Q2171.1 207.891 2173.07 210.576 Q2175.06 213.238 2178.51 213.238 Q2181.91 213.238 2183.9 210.553 Q2185.89 207.867 2185.89 203.238 Q2185.89 198.631 2183.9 195.946 Q2181.91 193.238 2178.51 193.238 M2178.51 189.627 Q2184.06 189.627 2187.23 193.238 Q2190.41 196.849 2190.41 203.238 Q2190.41 209.604 2187.23 213.238 Q2184.06 216.849 2178.51 216.849 Q2172.93 216.849 2169.76 213.238 Q2166.61 209.604 2166.61 203.238 Q2166.61 196.849 2169.76 193.238 Q2172.93 189.627 2178.51 189.627 Z\" fill=\"#000000\" fill-rule=\"evenodd\" fill-opacity=\"1\" /><path clip-path=\"url(#clip410)\" d=\"M2219.02 200.529 L2219.02 216.178 L2214.76 216.178 L2214.76 200.668 Q2214.76 196.988 2213.32 195.159 Q2211.89 193.33 2209.02 193.33 Q2205.57 193.33 2203.58 195.53 Q2201.59 197.729 2201.59 201.525 L2201.59 216.178 L2197.3 216.178 L2197.3 190.252 L2201.59 190.252 L2201.59 194.28 Q2203.11 191.942 2205.17 190.784 Q2207.26 189.627 2209.97 189.627 Q2214.43 189.627 2216.72 192.405 Q2219.02 195.159 2219.02 200.529 Z\" fill=\"#000000\" fill-rule=\"evenodd\" fill-opacity=\"1\" /><path clip-path=\"url(#clip410)\" d=\"M2231.54 181.618 L2231.54 194.465 L2227.6 194.465 L2227.6 181.618 L2231.54 181.618 Z\" fill=\"#000000\" fill-rule=\"evenodd\" fill-opacity=\"1\" /></svg>\n"
      ]
     },
     "execution_count": 23,
     "metadata": {},
     "output_type": "execute_result"
    }
   ],
   "source": [
    "function my_test_function(X)\n",
    "    if value(X) > 0\n",
    "        Y = 0.5*X*X*X - X*X + 3.0*X\n",
    "    else\n",
    "        Y = 0.5*X*X + 1.0\n",
    "    end\n",
    "    return Y\n",
    "end\n",
    "\n",
    "X = [AD(x, 1.0) for x in -5.0:0.1:5.0]\n",
    "Y = my_test_function.(X)\n",
    "using Plots\n",
    "plot(value.(Y), label = \"my_test_function\")\n",
    "plot!(derivative.(Y), label = \"my_test_function'\")"
   ]
  },
  {
   "cell_type": "markdown",
   "metadata": {
    "slideshow": {
     "slide_type": "slide"
    }
   },
   "source": [
    "## Numerous numbers\n",
    "The `AD` type is generic for any kind of `Number`, so we can immediately try complex numbers:"
   ]
  },
  {
   "cell_type": "code",
   "execution_count": 14,
   "metadata": {},
   "outputs": [
    {
     "data": {
      "text/plain": [
       "⟨6.0 + 1.9im, ∂/∂x=1.0 + 0.5im⟩"
      ]
     },
     "execution_count": 14,
     "metadata": {},
     "output_type": "execute_result"
    }
   ],
   "source": [
    "AD(1.0 + 2im, 1.0) + AD(5.0 - 0.1im, 0.5im)"
   ]
  },
  {
   "cell_type": "markdown",
   "metadata": {
    "slideshow": {
     "slide_type": "slide"
    }
   },
   "source": [
    "Our use of `promote_rule` now really pays off -- we can mix complex and real numbers with our AD type without issue, as the reals are first promoted to complex, and complex to dual!"
   ]
  },
  {
   "cell_type": "code",
   "execution_count": 15,
   "metadata": {},
   "outputs": [
    {
     "data": {
      "text/plain": [
       "⟨6.0 + 2.0im, ∂/∂x=2.0⟩"
      ]
     },
     "execution_count": 15,
     "metadata": {},
     "output_type": "execute_result"
    }
   ],
   "source": [
    "AD(1.0 + 2im, 1.0) + AD(5.0, 1.0)"
   ]
  },
  {
   "cell_type": "markdown",
   "metadata": {
    "slideshow": {
     "slide_type": "slide"
    }
   },
   "source": [
    "## Numbers wrapping Numbers\n",
    "We defined our AD class to work on `Number` instances for both value and derivative. Note that we did not specify that the value and derivative should be the same type of number. Maybe you also saw that our `AD` type itself is *also* a number? We have secretly been implementing derivatives of **any** order."
   ]
  },
  {
   "cell_type": "code",
   "execution_count": 16,
   "metadata": {},
   "outputs": [
    {
     "data": {
      "text/plain": [
       "⟨5.1, ∂/∂x=⟨3.85, ∂/∂x=2.4000000000000004⟩⟩"
      ]
     },
     "execution_count": 16,
     "metadata": {},
     "output_type": "execute_result"
    }
   ],
   "source": [
    "# X has value 1.5, X' = 1.0, X'' = 0.8\n",
    "X = AD(1.5, AD(1.0, 0.8))\n",
    "# Y has value 3, Y' = 0.5, Y'' = 0\n",
    "Y = AD(3.0, 0.5)\n",
    "C = X*Y + 0.2*Y"
   ]
  },
  {
   "cell_type": "code",
   "execution_count": 17,
   "metadata": {
    "slideshow": {
     "slide_type": "slide"
    }
   },
   "outputs": [
    {
     "ename": "LoadError",
     "evalue": "UndefVarError: F not defined",
     "output_type": "error",
     "traceback": [
      "UndefVarError: F not defined",
      "",
      "Stacktrace:",
      " [1] top-level scope",
      "   @ In[17]:1",
      " [2] eval",
      "   @ .\\boot.jl:373 [inlined]",
      " [3] include_string(mapexpr::typeof(REPL.softscope), mod::Module, code::String, filename::String)",
      "   @ Base .\\loading.jl:1196"
     ]
    }
   ],
   "source": [
    "value(F)"
   ]
  },
  {
   "cell_type": "code",
   "execution_count": 18,
   "metadata": {
    "slideshow": {
     "slide_type": "-"
    }
   },
   "outputs": [
    {
     "ename": "LoadError",
     "evalue": "UndefVarError: F not defined",
     "output_type": "error",
     "traceback": [
      "UndefVarError: F not defined",
      "",
      "Stacktrace:",
      " [1] top-level scope",
      "   @ In[18]:1",
      " [2] eval",
      "   @ .\\boot.jl:373 [inlined]",
      " [3] include_string(mapexpr::typeof(REPL.softscope), mod::Module, code::String, filename::String)",
      "   @ Base .\\loading.jl:1196"
     ]
    }
   ],
   "source": [
    "derivative(F)"
   ]
  },
  {
   "cell_type": "code",
   "execution_count": 19,
   "metadata": {
    "slideshow": {
     "slide_type": "-"
    }
   },
   "outputs": [
    {
     "ename": "LoadError",
     "evalue": "UndefVarError: F not defined",
     "output_type": "error",
     "traceback": [
      "UndefVarError: F not defined",
      "",
      "Stacktrace:",
      " [1] top-level scope",
      "   @ In[19]:1",
      " [2] eval",
      "   @ .\\boot.jl:373 [inlined]",
      " [3] include_string(mapexpr::typeof(REPL.softscope), mod::Module, code::String, filename::String)",
      "   @ Base .\\loading.jl:1196"
     ]
    }
   ],
   "source": [
    "derivative(derivative(F))"
   ]
  },
  {
   "cell_type": "markdown",
   "metadata": {
    "slideshow": {
     "slide_type": "slide"
    }
   },
   "source": [
    "## Test a simple Newton loop\n",
    "We try to find the root of $F(x) = x^2$ using Newton's method and an initial guess of $x = 5.0$."
   ]
  },
  {
   "cell_type": "code",
   "execution_count": 20,
   "metadata": {},
   "outputs": [
    {
     "name": "stdout",
     "output_type": "stream",
     "text": [
      "2 ||F(x) = 25.0||: 25.0\n",
      "3 ||F(x) = 6.25||: 6.25\n",
      "4 ||F(x) = 1.5625||: 1.5625\n",
      "5 ||F(x) = 0.390625||: 0.390625\n",
      "6 ||F(x) = 0.09765625||: 0.09765625\n",
      "7 ||F(x) = 0.0244140625||: 0.0244140625\n",
      "8 ||F(x) = 0.006103515625||: 0.006103515625\n",
      "9 ||F(x) = 0.00152587890625||: 0.00152587890625\n",
      "10 ||F(x) = 0.0003814697265625||: 0.0003814697265625\n",
      "11 ||F(x) = 9.5367431640625e-5||: 9.5367431640625e-5\n",
      "12 ||F(x) = 2.384185791015625e-5||: 2.384185791015625e-5\n",
      "13 ||F(x) = 5.9604644775390625e-6||: 5.9604644775390625e-6\n",
      "14 ||F(x) = 1.4901161193847656e-6||: 1.4901161193847656e-6\n",
      "15 ||F(x) = 3.725290298461914e-7||: 3.725290298461914e-7\n"
     ]
    }
   ],
   "source": [
    "F(xk) = xk*xk\n",
    "# Initialize\n",
    "x = AD(5.0, 1.0)\n",
    "it = 1\n",
    "nrm = Inf\n",
    "# Solve\n",
    "while nrm > 1e-6 && it < 100\n",
    "    f = F(x)\n",
    "    x = x - value(f)/derivative(f)\n",
    "    it += 1\n",
    "    nrm = norm(value(f))\n",
    "    println(\"$it ||F(x) = $nrm||: $(value(f))\")\n",
    "end\n"
   ]
  },
  {
   "cell_type": "markdown",
   "metadata": {
    "slideshow": {
     "slide_type": "slide"
    }
   },
   "source": [
    "## A note on performance and concrete types\n",
    "We have now seen that it is easy to implement `AD` with Julia (and many other languages). Our `AD` type is not as performant as it could be, however, as the type does not actually encode what kind of types the value and derivative are -- we just check in the constructor that they are numbers. For the compiler, this means that it is very hard to predict what methods to call for any given `AD` instance. Performance can be significantly increased if we make the type *parametric* on the type of the value and derivative so that a unique type is defined for each type of variable derivative type pair.\n",
    "\n",
    "The nice thing about Julia is that it is easy enough to skip type details when you are writing code, and then optimize once the structure is settled. Here is a quick draft of how an optimized type might look like:\n",
    "```julia\n",
    "struct AD{V, D} <: Number\n",
    "    v::V\n",
    "    dv::D\n",
    "end\n",
    "# Constructor without derivative (for e.g. Float64 -> AD)\n",
    "AD{T, V}(v) where {T, V} = AD(convert(T, v), zero(V))\n",
    "\n",
    "# Constructor with derivative\n",
    "AD(v::T, ∂::D) where {T,D} = AD{T, D}(v, ∂)\n",
    "AD(v::T) where T = AD(v, zero(T))\n",
    "```"
   ]
  },
  {
   "cell_type": "markdown",
   "metadata": {
    "slideshow": {
     "slide_type": "slide"
    }
   },
   "source": [
    "## Try it yourself\n",
    "1. Implement a few more operators like `Base.sin`, `Base.exp` from [the standard library](https://docs.julialang.org/en/v1/manual/mathematical-operations/) and create a more interesting version of `my_test_function` of your own devising.\n",
    "2. Can you add the methods required to compute the Sigmoid function used for activation in Neural networks?\n",
    "3. We defined scalar `AD` with repect to a single variable. How can this type be used to obtain gradients?\n",
    "4. Our type is essentially a simplified version of the [ForwardDiff.jl](https://github.com/JuliaDiff/ForwardDiff.jl) dual number type implemented [here](https://github.com/JuliaDiff/ForwardDiff.jl/blob/master/src/dual.jl). Take a look at the source code for a performance-critical Julia type - how different is it from our simple \"MATLAB/Python-like code\"?\n",
    "\n",
    "10 minutes, then we discuss these points together."
   ]
  },
  {
   "cell_type": "code",
   "execution_count": 21,
   "metadata": {
    "slideshow": {
     "slide_type": "slide"
    }
   },
   "outputs": [
    {
     "ename": "LoadError",
     "evalue": "This is where you come in...",
     "output_type": "error",
     "traceback": [
      "This is where you come in...",
      "",
      "Stacktrace:",
      " [1] error(s::String)",
      "   @ Base .\\error.jl:33",
      " [2] sin(x::AD)",
      "   @ Main .\\In[21]:3",
      " [3] top-level scope",
      "   @ In[21]:6",
      " [4] eval",
      "   @ .\\boot.jl:373 [inlined]",
      " [5] include_string(mapexpr::typeof(REPL.softscope), mod::Module, code::String, filename::String)",
      "   @ Base .\\loading.jl:1196"
     ]
    }
   ],
   "source": [
    "import Base: sin\n",
    "function sin(x::AD)\n",
    "    error(\"This is where you come in...\")\n",
    "end\n",
    "\n",
    "sin(AD(2π))"
   ]
  },
  {
   "cell_type": "code",
   "execution_count": 22,
   "metadata": {
    "slideshow": {
     "slide_type": "slide"
    }
   },
   "outputs": [
    {
     "ename": "LoadError",
     "evalue": "MethodError: no method matching -(::AD)\n\u001b[0mClosest candidates are:\n\u001b[0m  -(::AD, \u001b[91m::AD\u001b[39m) at In[6]:2\n\u001b[0m  -(::Any, \u001b[91m::ChainRulesCore.AbstractThunk\u001b[39m) at C:\\Users\\olavm\\.julia\\packages\\ChainRulesCore\\RbX5a\\src\\tangent_types\\thunks.jl:31\n\u001b[0m  -(::Any, \u001b[91m::ChainRulesCore.ZeroTangent\u001b[39m) at C:\\Users\\olavm\\.julia\\packages\\ChainRulesCore\\RbX5a\\src\\tangent_arithmetic.jl:102\n\u001b[0m  ...",
     "output_type": "error",
     "traceback": [
      "MethodError: no method matching -(::AD)\n\u001b[0mClosest candidates are:\n\u001b[0m  -(::AD, \u001b[91m::AD\u001b[39m) at In[6]:2\n\u001b[0m  -(::Any, \u001b[91m::ChainRulesCore.AbstractThunk\u001b[39m) at C:\\Users\\olavm\\.julia\\packages\\ChainRulesCore\\RbX5a\\src\\tangent_types\\thunks.jl:31\n\u001b[0m  -(::Any, \u001b[91m::ChainRulesCore.ZeroTangent\u001b[39m) at C:\\Users\\olavm\\.julia\\packages\\ChainRulesCore\\RbX5a\\src\\tangent_arithmetic.jl:102\n\u001b[0m  ...",
      "",
      "Stacktrace:",
      " [1] S(x::AD)",
      "   @ Main .\\In[22]:1",
      " [2] top-level scope",
      "   @ In[22]:2",
      " [3] eval",
      "   @ .\\boot.jl:373 [inlined]",
      " [4] include_string(mapexpr::typeof(REPL.softscope), mod::Module, code::String, filename::String)",
      "   @ Base .\\loading.jl:1196"
     ]
    }
   ],
   "source": [
    "S(x) = 1/(1 + exp(-x))\n",
    "S(AD(1.0))"
   ]
  },
  {
   "cell_type": "markdown",
   "metadata": {
    "slideshow": {
     "slide_type": "slide"
    }
   },
   "source": [
    "## Conclusion\n",
    "We have seen how it is easy to implement forward-mode AD. This is not the end of the story, however, as there are many topics we have not discussed:\n",
    "\n",
    "- We only worked with scalar AD, but for functions with multiple inputs it is important to support Jacobians and Hessians.\n",
    "- Non-scalar AD means matrix formats, implicit definitions of `J*v` products, memory allocation ...\n",
    "- Sparsity becomes a big issue for many applications, including PDEs - not all derivatives should be computed.\n",
    "- Custom numerical types relies on the code being flexible with respect to input types - using `Number` instead or `AbstractFloat` instead of `Float64` in their declarations.\n",
    "\n",
    "The [JuliaDiff](https://juliadiff.org/) organization contains links to many packages that can be tested. Some are experiments and others are very high quality and have been around for a long while:\n",
    "- [ForwardDiff.jl](https://github.com/JuliaDiff/ForwardDiff.jl) is a highly efficient forward-mode implementation.\n",
    "- [ReverseDiff.jl](https://github.com/JuliaDiff/ReverseDiff.jl) is an implementation of reverse-mode AD.\n",
    "- [Zygyote.jl](https://github.com/FluxML/Zygote.jl) is reverse mode source transformation implementation that is applied to the Julia IR."
   ]
  }
 ],
 "metadata": {
  "celltoolbar": "Slideshow",
  "kernelspec": {
   "display_name": "Julia 1.7.2",
   "language": "julia",
   "name": "julia-1.7"
  },
  "language_info": {
   "file_extension": ".jl",
   "mimetype": "application/julia",
   "name": "julia",
   "version": "1.7.2"
  }
 },
 "nbformat": 4,
 "nbformat_minor": 2
}
