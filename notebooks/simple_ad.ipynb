{
 "cells": [
  {
   "cell_type": "markdown",
   "metadata": {
    "slideshow": {
     "slide_type": "slide"
    }
   },
   "source": [
    "# Intro to automatic differentiation (AD)\n",
    "AD refers to a class of techniques that obtain derivatives from computer programs. These fall within three broad categories:\n",
    "\n",
    "1. Forward AD, where the derivative of each operation is recorded together with the value as the program executes\n",
    "2. Reverse AD, where the operations are recorded together with the value on a \"tape\", which is then traversed in reverse after the value has been computed to find the derivative\n",
    "3. Source code or compiler-level AD that differentiates the source code or compiler intermediate representation to write a program that produces the derivatives\n",
    "\n",
    "Optimal performance is usually a result of mix-and-matching these techniques."
   ]
  },
  {
   "cell_type": "markdown",
   "metadata": {
    "slideshow": {
     "slide_type": "slide"
    }
   },
   "source": [
    "## Creating a AD type\n",
    "We define a subtype of the abstract `Number` type that holds a value and the partial derivative which can both be any kind of number that implements the concept of a dual (or tuple) number $\\bar{v}$ that holds both the value $v$ of some expression and the partial derivative of that expression with respect to our independent variable $x$:\n",
    "$$\\bar{v} = \\langle v, \\frac{\\partial v}{\\partial x} \\rangle$$\n",
    "\n",
    "Julia has a fairly constrained type system when compared to e.g. C++. For example, Julia does not allow for concrete inheritance -- only inheritance from abstract types that cannot be instantiated and do not have any properties. In the constructor, we make the derivative optional and defaulted to the `zero` of the value type. This is important, as it will allow Julia to convert any number to the AD type with the reasonable default of zero derivative."
   ]
  },
  {
   "cell_type": "code",
   "execution_count": 2,
   "metadata": {
    "slideshow": {
     "slide_type": "-"
    }
   },
   "outputs": [
    {
     "data": {
      "text/plain": [
       "AD(2.0, 1.0)"
      ]
     },
     "execution_count": 2,
     "metadata": {},
     "output_type": "execute_result"
    }
   ],
   "source": [
    "\"Type that holds value and derivative\"\n",
    "struct AD <: Number\n",
    "    v\n",
    "    dv\n",
    "    function AD(val::Number, der::Number = zero(val))\n",
    "        return new(val, der)\n",
    "    end\n",
    "end\n",
    "# AD with value 2.0 and derivative 1.0:\n",
    "AD(2.0, 1.0)"
   ]
  },
  {
   "cell_type": "markdown",
   "metadata": {
    "slideshow": {
     "slide_type": "slide"
    }
   },
   "source": [
    "## Some utilities\n",
    "If we want to work with derivatives, we should also define utilities for getting the value and derivative of numbers. We define also generic methods for the `Any` supertype, where the value is the entry itself and the derivative is zero. This means that we can write generic code without having to explicitly convert values to AD when needed. All Julia types are instances of `Any`. Julia will pick the most concrete function specialization: `AD<:Number` and `Number<:Any` means that `value(::AD)` will be called instead of `value(::Any)`. "
   ]
  },
  {
   "cell_type": "code",
   "execution_count": 3,
   "metadata": {
    "slideshow": {
     "slide_type": "-"
    }
   },
   "outputs": [
    {
     "data": {
      "text/plain": [
       "derivative (generic function with 2 methods)"
      ]
     },
     "execution_count": 3,
     "metadata": {},
     "output_type": "execute_result"
    }
   ],
   "source": [
    "value(x) = x # Short-hand for value(x::Any) = x\n",
    "value(x::AD) = x.v\n",
    "derivative(x) = zero(x)\n",
    "derivative(x::AD) = x.dv"
   ]
  },
  {
   "cell_type": "markdown",
   "metadata": {
    "slideshow": {
     "slide_type": "slide"
    }
   },
   "source": [
    "### Deconstruction of AD values\n",
    "We can also define a convenience function that unpacks the value and derivative (can be used as two output arguments)"
   ]
  },
  {
   "cell_type": "code",
   "execution_count": 4,
   "metadata": {},
   "outputs": [
    {
     "name": "stdout",
     "output_type": "stream",
     "text": [
      "Value was 1.0, derivative 5.0\n"
     ]
    }
   ],
   "source": [
    "value_and_derivative(x) = (value(x), derivative(x))\n",
    "v, v′ = value_and_derivative(AD(1.0, 5.0))\n",
    "println(\"Value was $v, derivative $v′\")"
   ]
  },
  {
   "cell_type": "markdown",
   "metadata": {
    "slideshow": {
     "slide_type": "slide"
    }
   },
   "source": [
    "### Pretty printing by multiple dispatch\n",
    "Customizing standard functionality for types in Julia is then done by creating specialized versons of the default functions (similar to operator overloading, but with multiple dispatch). We will modify the default `show` method used to print the type as an example. Let's make it closer to our notation:"
   ]
  },
  {
   "cell_type": "code",
   "execution_count": 5,
   "metadata": {},
   "outputs": [
    {
     "data": {
      "text/plain": [
       "⟨2.0, ∂/∂x=1.0⟩"
      ]
     },
     "execution_count": 5,
     "metadata": {},
     "output_type": "execute_result"
    }
   ],
   "source": [
    "import Base: show\n",
    "show(io::IO, x::AD) = print(io, \"⟨$(x.v), ∂/∂x=$(x.dv)⟩\")\n",
    "x = AD(2.0, 1.0)"
   ]
  },
  {
   "cell_type": "markdown",
   "metadata": {
    "slideshow": {
     "slide_type": "subslide"
    }
   },
   "source": [
    "We remark that this is a specialization for both the type of `show` stream (`::IO`) and the object to be shown (`::AD`). Other `show` methods that involve our `AD` type could behave differently, and we could further specialize on specific subtypes of `IO`, for example `Core.CoreSTDERR` to specialize for error messages."
   ]
  },
  {
   "cell_type": "markdown",
   "metadata": {
    "slideshow": {
     "slide_type": "slide"
    }
   },
   "source": [
    "## Adding things up\n",
    "Next up, let us specialize another base function, the binary addition operator `+`:"
   ]
  },
  {
   "cell_type": "code",
   "execution_count": 6,
   "metadata": {},
   "outputs": [
    {
     "data": {
      "text/plain": [
       "⟨12.0, ∂/∂x=2.5⟩"
      ]
     },
     "execution_count": 6,
     "metadata": {},
     "output_type": "execute_result"
    }
   ],
   "source": [
    "import Base.+\n",
    "function (+)(U::AD, V::AD)\n",
    "    u, u′ = value_and_derivative(U) # u = value(U), u′ = derivative(U)\n",
    "    v, v′ = value_and_derivative(V)\n",
    "    return AD(u + v, u′ + v′)\n",
    "end\n",
    "x = AD(2.0, 1.0)\n",
    "y = AD(10.0, 1.5)\n",
    "x + y"
   ]
  },
  {
   "cell_type": "markdown",
   "metadata": {
    "slideshow": {
     "slide_type": "slide"
    }
   },
   "source": [
    "## Picking a spot in the type hierarchy\n",
    "Our `AD` type depends on the abstract `Number` type. For our `AD` type to be useful, we are going to need several binary operators of the form `a+b` and `a*b` to be compatible with `AD` together with other numbers like `Float32` or `Float64`. If we were to call our addition operator with `AD` and a regular number, we would get an error message saying that there is no function `+` for `AD` and `Float64`.\n",
    "\n",
    "We want to avoid writing seperate functions for `AD * Float64` and `Float64 * AD` and so on: For type stability, we always want `AD` output when any of the inputs are `AD`. We can formalize this by implementing the `promote_rule` for our `AD` type."
   ]
  },
  {
   "cell_type": "code",
   "execution_count": 7,
   "metadata": {},
   "outputs": [
    {
     "data": {
      "text/plain": [
       "AD"
      ]
     },
     "execution_count": 7,
     "metadata": {},
     "output_type": "execute_result"
    }
   ],
   "source": [
    "import Base: promote_rule\n",
    "promote_rule(::Type{T}, ::Type{<:Number}) where {T<:AD} = T\n",
    "# Note difference in function name and calling order!\n",
    "promote_type(Float64, AD) # or promote for type instances"
   ]
  },
  {
   "cell_type": "markdown",
   "metadata": {
    "slideshow": {
     "slide_type": "slide"
    }
   },
   "source": [
    "It is worth noting that this function is dispatching on the \"type of type AD\" `Type{<:AD}` and not the type `AD` itself. This is because the choice of what function to use happens on the compile level, which is also defined through Julia code. We are in fact performing some light meta-programming without any use of macros here.\n",
    "\n",
    "Now, any call of the type `a*b` where `a` is `AD` and `b` is some other number will result in the function `a*convert(AD, b)` being called. `convert(AD, b)` will call our single input constructor, creating a AD object with zero derivative. Let us test it out:"
   ]
  },
  {
   "cell_type": "code",
   "execution_count": 8,
   "metadata": {
    "slideshow": {
     "slide_type": "-"
    }
   },
   "outputs": [
    {
     "data": {
      "text/plain": [
       "⟨4.0, ∂/∂x=1.0⟩"
      ]
     },
     "execution_count": 8,
     "metadata": {},
     "output_type": "execute_result"
    }
   ],
   "source": [
    "AD(1.0, 1.0) + 3.0"
   ]
  },
  {
   "cell_type": "markdown",
   "metadata": {
    "slideshow": {
     "slide_type": "slide"
    }
   },
   "source": [
    "## Multiplicative effects\n",
    "Let us add multiplication as our next feature:\n",
    "$$(uv)' = u'v + uv'$$"
   ]
  },
  {
   "cell_type": "code",
   "execution_count": 9,
   "metadata": {},
   "outputs": [
    {
     "data": {
      "text/plain": [
       "* (generic function with 365 methods)"
      ]
     },
     "execution_count": 9,
     "metadata": {},
     "output_type": "execute_result"
    }
   ],
   "source": [
    "import Base.*\n",
    "function (*)(U::AD, V::AD)\n",
    "    u, u′ = value_and_derivative(U)\n",
    "    v, v′ = value_and_derivative(V)\n",
    "    return AD(u*v, u′*v + u*v′)\n",
    "end\n"
   ]
  },
  {
   "cell_type": "code",
   "execution_count": 10,
   "metadata": {
    "slideshow": {
     "slide_type": "slide"
    }
   },
   "outputs": [
    {
     "data": {
      "text/plain": [
       "⟨20.0, ∂/∂x=13.0⟩"
      ]
     },
     "execution_count": 10,
     "metadata": {},
     "output_type": "execute_result"
    }
   ],
   "source": [
    "x = AD(2.0, 1.0)\n",
    "y = AD(10.0, 1.5)\n",
    "x*y"
   ]
  },
  {
   "cell_type": "code",
   "execution_count": 11,
   "metadata": {
    "slideshow": {
     "slide_type": "slide"
    }
   },
   "outputs": [
    {
     "data": {
      "text/plain": [
       "⟨7.0, ∂/∂x=2.0⟩"
      ]
     },
     "execution_count": 11,
     "metadata": {},
     "output_type": "execute_result"
    }
   ],
   "source": [
    "2.0*AD(3.5, 1.0)"
   ]
  },
  {
   "cell_type": "code",
   "execution_count": 22,
   "metadata": {
    "slideshow": {
     "slide_type": "skip"
    }
   },
   "outputs": [
    {
     "name": "stderr",
     "output_type": "stream",
     "text": [
      "\u001b[32m\u001b[1m   Resolving\u001b[22m\u001b[39m package versions...\n",
      "\u001b[32m\u001b[1m  No Changes\u001b[22m\u001b[39m to `D:\\jobb\\bitbucket\\moyner.jl\\Project.toml`\n",
      "\u001b[32m\u001b[1m  No Changes\u001b[22m\u001b[39m to `D:\\jobb\\bitbucket\\moyner.jl\\Manifest.toml`\n"
     ]
    }
   ],
   "source": [
    "using Pkg; Pkg.add(\"Plots\");"
   ]
  },
  {
   "cell_type": "code",
   "execution_count": 21,
   "metadata": {
    "slideshow": {
     "slide_type": "slide"
    }
   },
   "outputs": [
    {
     "data": {
      "image/svg+xml": [
       "<?xml version=\"1.0\" encoding=\"utf-8\"?>\n",
       "<svg xmlns=\"http://www.w3.org/2000/svg\" xmlns:xlink=\"http://www.w3.org/1999/xlink\" width=\"600\" height=\"400\" viewBox=\"0 0 2400 1600\">\n",
       "<defs>\n",
       "  <clipPath id=\"clip710\">\n",
       "    <rect x=\"0\" y=\"0\" width=\"2400\" height=\"1600\"/>\n",
       "  </clipPath>\n",
       "</defs>\n",
       "<path clip-path=\"url(#clip710)\" d=\"\n",
       "M0 1600 L2400 1600 L2400 0 L0 0  Z\n",
       "  \" fill=\"#ffffff\" fill-rule=\"evenodd\" fill-opacity=\"1\"/>\n",
       "<defs>\n",
       "  <clipPath id=\"clip711\">\n",
       "    <rect x=\"480\" y=\"0\" width=\"1681\" height=\"1600\"/>\n",
       "  </clipPath>\n",
       "</defs>\n",
       "<path clip-path=\"url(#clip710)\" d=\"\n",
       "M141.853 1486.45 L2352.76 1486.45 L2352.76 47.2441 L141.853 47.2441  Z\n",
       "  \" fill=\"#ffffff\" fill-rule=\"evenodd\" fill-opacity=\"1\"/>\n",
       "<defs>\n",
       "  <clipPath id=\"clip712\">\n",
       "    <rect x=\"141\" y=\"47\" width=\"2212\" height=\"1440\"/>\n",
       "  </clipPath>\n",
       "</defs>\n",
       "<polyline clip-path=\"url(#clip712)\" style=\"stroke:#000000; stroke-linecap:butt; stroke-linejoin:round; stroke-width:2; stroke-opacity:0.1; fill:none\" points=\"\n",
       "  183.568,1486.45 183.568,47.2441 \n",
       "  \"/>\n",
       "<polyline clip-path=\"url(#clip712)\" style=\"stroke:#000000; stroke-linecap:butt; stroke-linejoin:round; stroke-width:2; stroke-opacity:0.1; fill:none\" points=\"\n",
       "  705.007,1486.45 705.007,47.2441 \n",
       "  \"/>\n",
       "<polyline clip-path=\"url(#clip712)\" style=\"stroke:#000000; stroke-linecap:butt; stroke-linejoin:round; stroke-width:2; stroke-opacity:0.1; fill:none\" points=\"\n",
       "  1226.45,1486.45 1226.45,47.2441 \n",
       "  \"/>\n",
       "<polyline clip-path=\"url(#clip712)\" style=\"stroke:#000000; stroke-linecap:butt; stroke-linejoin:round; stroke-width:2; stroke-opacity:0.1; fill:none\" points=\"\n",
       "  1747.89,1486.45 1747.89,47.2441 \n",
       "  \"/>\n",
       "<polyline clip-path=\"url(#clip712)\" style=\"stroke:#000000; stroke-linecap:butt; stroke-linejoin:round; stroke-width:2; stroke-opacity:0.1; fill:none\" points=\"\n",
       "  2269.33,1486.45 2269.33,47.2441 \n",
       "  \"/>\n",
       "<polyline clip-path=\"url(#clip710)\" style=\"stroke:#000000; stroke-linecap:butt; stroke-linejoin:round; stroke-width:4; stroke-opacity:1; fill:none\" points=\"\n",
       "  141.853,1486.45 2352.76,1486.45 \n",
       "  \"/>\n",
       "<polyline clip-path=\"url(#clip710)\" style=\"stroke:#000000; stroke-linecap:butt; stroke-linejoin:round; stroke-width:4; stroke-opacity:1; fill:none\" points=\"\n",
       "  183.568,1486.45 183.568,1467.55 \n",
       "  \"/>\n",
       "<polyline clip-path=\"url(#clip710)\" style=\"stroke:#000000; stroke-linecap:butt; stroke-linejoin:round; stroke-width:4; stroke-opacity:1; fill:none\" points=\"\n",
       "  705.007,1486.45 705.007,1467.55 \n",
       "  \"/>\n",
       "<polyline clip-path=\"url(#clip710)\" style=\"stroke:#000000; stroke-linecap:butt; stroke-linejoin:round; stroke-width:4; stroke-opacity:1; fill:none\" points=\"\n",
       "  1226.45,1486.45 1226.45,1467.55 \n",
       "  \"/>\n",
       "<polyline clip-path=\"url(#clip710)\" style=\"stroke:#000000; stroke-linecap:butt; stroke-linejoin:round; stroke-width:4; stroke-opacity:1; fill:none\" points=\"\n",
       "  1747.89,1486.45 1747.89,1467.55 \n",
       "  \"/>\n",
       "<polyline clip-path=\"url(#clip710)\" style=\"stroke:#000000; stroke-linecap:butt; stroke-linejoin:round; stroke-width:4; stroke-opacity:1; fill:none\" points=\"\n",
       "  2269.33,1486.45 2269.33,1467.55 \n",
       "  \"/>\n",
       "<path clip-path=\"url(#clip710)\" d=\"M183.568 1517.37 Q179.957 1517.37 178.128 1520.93 Q176.323 1524.47 176.323 1531.6 Q176.323 1538.71 178.128 1542.27 Q179.957 1545.82 183.568 1545.82 Q187.202 1545.82 189.008 1542.27 Q190.837 1538.71 190.837 1531.6 Q190.837 1524.47 189.008 1520.93 Q187.202 1517.37 183.568 1517.37 M183.568 1513.66 Q189.378 1513.66 192.434 1518.27 Q195.512 1522.85 195.512 1531.6 Q195.512 1540.33 192.434 1544.94 Q189.378 1549.52 183.568 1549.52 Q177.758 1549.52 174.679 1544.94 Q171.624 1540.33 171.624 1531.6 Q171.624 1522.85 174.679 1518.27 Q177.758 1513.66 183.568 1513.66 Z\" fill=\"#000000\" fill-rule=\"evenodd\" fill-opacity=\"1\" /><path clip-path=\"url(#clip710)\" d=\"M684.278 1544.91 L700.598 1544.91 L700.598 1548.85 L678.653 1548.85 L678.653 1544.91 Q681.315 1542.16 685.899 1537.53 Q690.505 1532.88 691.686 1531.53 Q693.931 1529.01 694.811 1527.27 Q695.714 1525.51 695.714 1523.82 Q695.714 1521.07 693.769 1519.33 Q691.848 1517.6 688.746 1517.6 Q686.547 1517.6 684.093 1518.36 Q681.663 1519.13 678.885 1520.68 L678.885 1515.95 Q681.709 1514.82 684.163 1514.24 Q686.616 1513.66 688.653 1513.66 Q694.024 1513.66 697.218 1516.35 Q700.413 1519.03 700.413 1523.52 Q700.413 1525.65 699.602 1527.57 Q698.815 1529.47 696.709 1532.07 Q696.13 1532.74 693.028 1535.95 Q689.927 1539.15 684.278 1544.91 Z\" fill=\"#000000\" fill-rule=\"evenodd\" fill-opacity=\"1\" /><path clip-path=\"url(#clip710)\" d=\"M710.459 1514.29 L728.815 1514.29 L728.815 1518.22 L714.741 1518.22 L714.741 1526.7 Q715.76 1526.35 716.778 1526.19 Q717.797 1526 718.815 1526 Q724.602 1526 727.982 1529.17 Q731.361 1532.34 731.361 1537.76 Q731.361 1543.34 727.889 1546.44 Q724.417 1549.52 718.098 1549.52 Q715.922 1549.52 713.653 1549.15 Q711.408 1548.78 709.001 1548.04 L709.001 1543.34 Q711.084 1544.47 713.306 1545.03 Q715.528 1545.58 718.005 1545.58 Q722.01 1545.58 724.348 1543.48 Q726.686 1541.37 726.686 1537.76 Q726.686 1534.15 724.348 1532.04 Q722.01 1529.94 718.005 1529.94 Q716.13 1529.94 714.255 1530.35 Q712.403 1530.77 710.459 1531.65 L710.459 1514.29 Z\" fill=\"#000000\" fill-rule=\"evenodd\" fill-opacity=\"1\" /><path clip-path=\"url(#clip710)\" d=\"M1201.15 1514.29 L1219.5 1514.29 L1219.5 1518.22 L1205.43 1518.22 L1205.43 1526.7 Q1206.45 1526.35 1207.47 1526.19 Q1208.48 1526 1209.5 1526 Q1215.29 1526 1218.67 1529.17 Q1222.05 1532.34 1222.05 1537.76 Q1222.05 1543.34 1218.58 1546.44 Q1215.1 1549.52 1208.78 1549.52 Q1206.61 1549.52 1204.34 1549.15 Q1202.1 1548.78 1199.69 1548.04 L1199.69 1543.34 Q1201.77 1544.47 1203.99 1545.03 Q1206.22 1545.58 1208.69 1545.58 Q1212.7 1545.58 1215.03 1543.48 Q1217.37 1541.37 1217.37 1537.76 Q1217.37 1534.15 1215.03 1532.04 Q1212.7 1529.94 1208.69 1529.94 Q1206.82 1529.94 1204.94 1530.35 Q1203.09 1530.77 1201.15 1531.65 L1201.15 1514.29 Z\" fill=\"#000000\" fill-rule=\"evenodd\" fill-opacity=\"1\" /><path clip-path=\"url(#clip710)\" d=\"M1241.26 1517.37 Q1237.65 1517.37 1235.82 1520.93 Q1234.02 1524.47 1234.02 1531.6 Q1234.02 1538.71 1235.82 1542.27 Q1237.65 1545.82 1241.26 1545.82 Q1244.9 1545.82 1246.7 1542.27 Q1248.53 1538.71 1248.53 1531.6 Q1248.53 1524.47 1246.7 1520.93 Q1244.9 1517.37 1241.26 1517.37 M1241.26 1513.66 Q1247.07 1513.66 1250.13 1518.27 Q1253.21 1522.85 1253.21 1531.6 Q1253.21 1540.33 1250.13 1544.94 Q1247.07 1549.52 1241.26 1549.52 Q1235.45 1549.52 1232.37 1544.94 Q1229.32 1540.33 1229.32 1531.6 Q1229.32 1522.85 1232.37 1518.27 Q1235.45 1513.66 1241.26 1513.66 Z\" fill=\"#000000\" fill-rule=\"evenodd\" fill-opacity=\"1\" /><path clip-path=\"url(#clip710)\" d=\"M1721.74 1514.29 L1743.96 1514.29 L1743.96 1516.28 L1731.42 1548.85 L1726.53 1548.85 L1738.34 1518.22 L1721.74 1518.22 L1721.74 1514.29 Z\" fill=\"#000000\" fill-rule=\"evenodd\" fill-opacity=\"1\" /><path clip-path=\"url(#clip710)\" d=\"M1753.13 1514.29 L1771.49 1514.29 L1771.49 1518.22 L1757.41 1518.22 L1757.41 1526.7 Q1758.43 1526.35 1759.45 1526.19 Q1760.47 1526 1761.49 1526 Q1767.27 1526 1770.65 1529.17 Q1774.03 1532.34 1774.03 1537.76 Q1774.03 1543.34 1770.56 1546.44 Q1767.09 1549.52 1760.77 1549.52 Q1758.59 1549.52 1756.32 1549.15 Q1754.08 1548.78 1751.67 1548.04 L1751.67 1543.34 Q1753.75 1544.47 1755.98 1545.03 Q1758.2 1545.58 1760.68 1545.58 Q1764.68 1545.58 1767.02 1543.48 Q1769.36 1541.37 1769.36 1537.76 Q1769.36 1534.15 1767.02 1532.04 Q1764.68 1529.94 1760.68 1529.94 Q1758.8 1529.94 1756.93 1530.35 Q1755.07 1530.77 1753.13 1531.65 L1753.13 1514.29 Z\" fill=\"#000000\" fill-rule=\"evenodd\" fill-opacity=\"1\" /><path clip-path=\"url(#clip710)\" d=\"M2228.93 1544.91 L2236.57 1544.91 L2236.57 1518.55 L2228.26 1520.21 L2228.26 1515.95 L2236.52 1514.29 L2241.2 1514.29 L2241.2 1544.91 L2248.84 1544.91 L2248.84 1548.85 L2228.93 1548.85 L2228.93 1544.91 Z\" fill=\"#000000\" fill-rule=\"evenodd\" fill-opacity=\"1\" /><path clip-path=\"url(#clip710)\" d=\"M2268.28 1517.37 Q2264.67 1517.37 2262.84 1520.93 Q2261.04 1524.47 2261.04 1531.6 Q2261.04 1538.71 2262.84 1542.27 Q2264.67 1545.82 2268.28 1545.82 Q2271.92 1545.82 2273.72 1542.27 Q2275.55 1538.71 2275.55 1531.6 Q2275.55 1524.47 2273.72 1520.93 Q2271.92 1517.37 2268.28 1517.37 M2268.28 1513.66 Q2274.09 1513.66 2277.15 1518.27 Q2280.23 1522.85 2280.23 1531.6 Q2280.23 1540.33 2277.15 1544.94 Q2274.09 1549.52 2268.28 1549.52 Q2262.47 1549.52 2259.4 1544.94 Q2256.34 1540.33 2256.34 1531.6 Q2256.34 1522.85 2259.4 1518.27 Q2262.47 1513.66 2268.28 1513.66 Z\" fill=\"#000000\" fill-rule=\"evenodd\" fill-opacity=\"1\" /><path clip-path=\"url(#clip710)\" d=\"M2298.45 1517.37 Q2294.83 1517.37 2293.01 1520.93 Q2291.2 1524.47 2291.2 1531.6 Q2291.2 1538.71 2293.01 1542.27 Q2294.83 1545.82 2298.45 1545.82 Q2302.08 1545.82 2303.89 1542.27 Q2305.71 1538.71 2305.71 1531.6 Q2305.71 1524.47 2303.89 1520.93 Q2302.08 1517.37 2298.45 1517.37 M2298.45 1513.66 Q2304.26 1513.66 2307.31 1518.27 Q2310.39 1522.85 2310.39 1531.6 Q2310.39 1540.33 2307.31 1544.94 Q2304.26 1549.52 2298.45 1549.52 Q2292.64 1549.52 2289.56 1544.94 Q2286.5 1540.33 2286.5 1531.6 Q2286.5 1522.85 2289.56 1518.27 Q2292.64 1513.66 2298.45 1513.66 Z\" fill=\"#000000\" fill-rule=\"evenodd\" fill-opacity=\"1\" /><polyline clip-path=\"url(#clip712)\" style=\"stroke:#000000; stroke-linecap:butt; stroke-linejoin:round; stroke-width:2; stroke-opacity:0.1; fill:none\" points=\"\n",
       "  141.853,1348.73 2352.76,1348.73 \n",
       "  \"/>\n",
       "<polyline clip-path=\"url(#clip712)\" style=\"stroke:#000000; stroke-linecap:butt; stroke-linejoin:round; stroke-width:2; stroke-opacity:0.1; fill:none\" points=\"\n",
       "  141.853,1154.77 2352.76,1154.77 \n",
       "  \"/>\n",
       "<polyline clip-path=\"url(#clip712)\" style=\"stroke:#000000; stroke-linecap:butt; stroke-linejoin:round; stroke-width:2; stroke-opacity:0.1; fill:none\" points=\"\n",
       "  141.853,960.809 2352.76,960.809 \n",
       "  \"/>\n",
       "<polyline clip-path=\"url(#clip712)\" style=\"stroke:#000000; stroke-linecap:butt; stroke-linejoin:round; stroke-width:2; stroke-opacity:0.1; fill:none\" points=\"\n",
       "  141.853,766.846 2352.76,766.846 \n",
       "  \"/>\n",
       "<polyline clip-path=\"url(#clip712)\" style=\"stroke:#000000; stroke-linecap:butt; stroke-linejoin:round; stroke-width:2; stroke-opacity:0.1; fill:none\" points=\"\n",
       "  141.853,572.883 2352.76,572.883 \n",
       "  \"/>\n",
       "<polyline clip-path=\"url(#clip712)\" style=\"stroke:#000000; stroke-linecap:butt; stroke-linejoin:round; stroke-width:2; stroke-opacity:0.1; fill:none\" points=\"\n",
       "  141.853,378.92 2352.76,378.92 \n",
       "  \"/>\n",
       "<polyline clip-path=\"url(#clip712)\" style=\"stroke:#000000; stroke-linecap:butt; stroke-linejoin:round; stroke-width:2; stroke-opacity:0.1; fill:none\" points=\"\n",
       "  141.853,184.958 2352.76,184.958 \n",
       "  \"/>\n",
       "<polyline clip-path=\"url(#clip710)\" style=\"stroke:#000000; stroke-linecap:butt; stroke-linejoin:round; stroke-width:4; stroke-opacity:1; fill:none\" points=\"\n",
       "  141.853,1486.45 141.853,47.2441 \n",
       "  \"/>\n",
       "<polyline clip-path=\"url(#clip710)\" style=\"stroke:#000000; stroke-linecap:butt; stroke-linejoin:round; stroke-width:4; stroke-opacity:1; fill:none\" points=\"\n",
       "  141.853,1348.73 160.751,1348.73 \n",
       "  \"/>\n",
       "<polyline clip-path=\"url(#clip710)\" style=\"stroke:#000000; stroke-linecap:butt; stroke-linejoin:round; stroke-width:4; stroke-opacity:1; fill:none\" points=\"\n",
       "  141.853,1154.77 160.751,1154.77 \n",
       "  \"/>\n",
       "<polyline clip-path=\"url(#clip710)\" style=\"stroke:#000000; stroke-linecap:butt; stroke-linejoin:round; stroke-width:4; stroke-opacity:1; fill:none\" points=\"\n",
       "  141.853,960.809 160.751,960.809 \n",
       "  \"/>\n",
       "<polyline clip-path=\"url(#clip710)\" style=\"stroke:#000000; stroke-linecap:butt; stroke-linejoin:round; stroke-width:4; stroke-opacity:1; fill:none\" points=\"\n",
       "  141.853,766.846 160.751,766.846 \n",
       "  \"/>\n",
       "<polyline clip-path=\"url(#clip710)\" style=\"stroke:#000000; stroke-linecap:butt; stroke-linejoin:round; stroke-width:4; stroke-opacity:1; fill:none\" points=\"\n",
       "  141.853,572.883 160.751,572.883 \n",
       "  \"/>\n",
       "<polyline clip-path=\"url(#clip710)\" style=\"stroke:#000000; stroke-linecap:butt; stroke-linejoin:round; stroke-width:4; stroke-opacity:1; fill:none\" points=\"\n",
       "  141.853,378.92 160.751,378.92 \n",
       "  \"/>\n",
       "<polyline clip-path=\"url(#clip710)\" style=\"stroke:#000000; stroke-linecap:butt; stroke-linejoin:round; stroke-width:4; stroke-opacity:1; fill:none\" points=\"\n",
       "  141.853,184.958 160.751,184.958 \n",
       "  \"/>\n",
       "<path clip-path=\"url(#clip710)\" d=\"M93.9086 1334.53 Q90.2975 1334.53 88.4688 1338.1 Q86.6632 1341.64 86.6632 1348.77 Q86.6632 1355.88 88.4688 1359.44 Q90.2975 1362.98 93.9086 1362.98 Q97.5428 1362.98 99.3483 1359.44 Q101.177 1355.88 101.177 1348.77 Q101.177 1341.64 99.3483 1338.1 Q97.5428 1334.53 93.9086 1334.53 M93.9086 1330.83 Q99.7187 1330.83 102.774 1335.44 Q105.853 1340.02 105.853 1348.77 Q105.853 1357.5 102.774 1362.1 Q99.7187 1366.69 93.9086 1366.69 Q88.0984 1366.69 85.0197 1362.1 Q81.9642 1357.5 81.9642 1348.77 Q81.9642 1340.02 85.0197 1335.44 Q88.0984 1330.83 93.9086 1330.83 Z\" fill=\"#000000\" fill-rule=\"evenodd\" fill-opacity=\"1\" /><path clip-path=\"url(#clip710)\" d=\"M54.5569 1168.12 L62.1958 1168.12 L62.1958 1141.75 L53.8856 1143.42 L53.8856 1139.16 L62.1495 1137.49 L66.8254 1137.49 L66.8254 1168.12 L74.4642 1168.12 L74.4642 1172.05 L54.5569 1172.05 L54.5569 1168.12 Z\" fill=\"#000000\" fill-rule=\"evenodd\" fill-opacity=\"1\" /><path clip-path=\"url(#clip710)\" d=\"M93.9086 1140.57 Q90.2975 1140.57 88.4688 1144.14 Q86.6632 1147.68 86.6632 1154.81 Q86.6632 1161.91 88.4688 1165.48 Q90.2975 1169.02 93.9086 1169.02 Q97.5428 1169.02 99.3483 1165.48 Q101.177 1161.91 101.177 1154.81 Q101.177 1147.68 99.3483 1144.14 Q97.5428 1140.57 93.9086 1140.57 M93.9086 1136.87 Q99.7187 1136.87 102.774 1141.47 Q105.853 1146.06 105.853 1154.81 Q105.853 1163.53 102.774 1168.14 Q99.7187 1172.72 93.9086 1172.72 Q88.0984 1172.72 85.0197 1168.14 Q81.9642 1163.53 81.9642 1154.81 Q81.9642 1146.06 85.0197 1141.47 Q88.0984 1136.87 93.9086 1136.87 Z\" fill=\"#000000\" fill-rule=\"evenodd\" fill-opacity=\"1\" /><path clip-path=\"url(#clip710)\" d=\"M57.7745 974.154 L74.0939 974.154 L74.0939 978.089 L52.1495 978.089 L52.1495 974.154 Q54.8115 971.399 59.3949 966.769 Q64.0013 962.117 65.1819 960.774 Q67.4272 958.251 68.3068 956.515 Q69.2096 954.756 69.2096 953.066 Q69.2096 950.311 67.2652 948.575 Q65.3439 946.839 62.2421 946.839 Q60.043 946.839 57.5893 947.603 Q55.1588 948.367 52.381 949.918 L52.381 945.195 Q55.2051 944.061 57.6588 943.482 Q60.1124 942.904 62.1495 942.904 Q67.5198 942.904 70.7142 945.589 Q73.9087 948.274 73.9087 952.765 Q73.9087 954.894 73.0985 956.816 Q72.3115 958.714 70.205 961.306 Q69.6263 961.978 66.5245 965.195 Q63.4226 968.39 57.7745 974.154 Z\" fill=\"#000000\" fill-rule=\"evenodd\" fill-opacity=\"1\" /><path clip-path=\"url(#clip710)\" d=\"M93.9086 946.607 Q90.2975 946.607 88.4688 950.172 Q86.6632 953.714 86.6632 960.843 Q86.6632 967.95 88.4688 971.515 Q90.2975 975.056 93.9086 975.056 Q97.5428 975.056 99.3483 971.515 Q101.177 967.95 101.177 960.843 Q101.177 953.714 99.3483 950.172 Q97.5428 946.607 93.9086 946.607 M93.9086 942.904 Q99.7187 942.904 102.774 947.51 Q105.853 952.094 105.853 960.843 Q105.853 969.57 102.774 974.177 Q99.7187 978.76 93.9086 978.76 Q88.0984 978.76 85.0197 974.177 Q81.9642 969.57 81.9642 960.843 Q81.9642 952.094 85.0197 947.51 Q88.0984 942.904 93.9086 942.904 Z\" fill=\"#000000\" fill-rule=\"evenodd\" fill-opacity=\"1\" /><path clip-path=\"url(#clip710)\" d=\"M67.9133 765.492 Q71.2698 766.209 73.1448 768.478 Q75.0429 770.746 75.0429 774.08 Q75.0429 779.195 71.5244 781.996 Q68.0059 784.797 61.5245 784.797 Q59.3486 784.797 57.0338 784.357 Q54.7421 783.941 52.2884 783.084 L52.2884 778.57 Q54.2328 779.705 56.5477 780.283 Q58.8625 780.862 61.3856 780.862 Q65.7837 780.862 68.0754 779.126 Q70.3902 777.39 70.3902 774.08 Q70.3902 771.024 68.2374 769.311 Q66.1078 767.575 62.2884 767.575 L58.2606 767.575 L58.2606 763.733 L62.4735 763.733 Q65.9226 763.733 67.7513 762.367 Q69.58 760.978 69.58 758.385 Q69.58 755.723 67.6819 754.311 Q65.8069 752.876 62.2884 752.876 Q60.3671 752.876 58.168 753.293 Q55.969 753.709 53.3301 754.589 L53.3301 750.422 Q55.9921 749.682 58.3069 749.311 Q60.6449 748.941 62.705 748.941 Q68.0291 748.941 71.1309 751.372 Q74.2327 753.779 74.2327 757.899 Q74.2327 760.77 72.5892 762.76 Q70.9457 764.728 67.9133 765.492 Z\" fill=\"#000000\" fill-rule=\"evenodd\" fill-opacity=\"1\" /><path clip-path=\"url(#clip710)\" d=\"M93.9086 752.645 Q90.2975 752.645 88.4688 756.209 Q86.6632 759.751 86.6632 766.881 Q86.6632 773.987 88.4688 777.552 Q90.2975 781.094 93.9086 781.094 Q97.5428 781.094 99.3483 777.552 Q101.177 773.987 101.177 766.881 Q101.177 759.751 99.3483 756.209 Q97.5428 752.645 93.9086 752.645 M93.9086 748.941 Q99.7187 748.941 102.774 753.547 Q105.853 758.131 105.853 766.881 Q105.853 775.608 102.774 780.214 Q99.7187 784.797 93.9086 784.797 Q88.0984 784.797 85.0197 780.214 Q81.9642 775.608 81.9642 766.881 Q81.9642 758.131 85.0197 753.547 Q88.0984 748.941 93.9086 748.941 Z\" fill=\"#000000\" fill-rule=\"evenodd\" fill-opacity=\"1\" /><path clip-path=\"url(#clip710)\" d=\"M66.5939 559.677 L54.7884 578.126 L66.5939 578.126 L66.5939 559.677 M65.367 555.603 L71.2466 555.603 L71.2466 578.126 L76.1772 578.126 L76.1772 582.015 L71.2466 582.015 L71.2466 590.163 L66.5939 590.163 L66.5939 582.015 L50.9921 582.015 L50.9921 577.501 L65.367 555.603 Z\" fill=\"#000000\" fill-rule=\"evenodd\" fill-opacity=\"1\" /><path clip-path=\"url(#clip710)\" d=\"M93.9086 558.682 Q90.2975 558.682 88.4688 562.247 Q86.6632 565.788 86.6632 572.918 Q86.6632 580.024 88.4688 583.589 Q90.2975 587.131 93.9086 587.131 Q97.5428 587.131 99.3483 583.589 Q101.177 580.024 101.177 572.918 Q101.177 565.788 99.3483 562.247 Q97.5428 558.682 93.9086 558.682 M93.9086 554.978 Q99.7187 554.978 102.774 559.585 Q105.853 564.168 105.853 572.918 Q105.853 581.645 102.774 586.251 Q99.7187 590.835 93.9086 590.835 Q88.0984 590.835 85.0197 586.251 Q81.9642 581.645 81.9642 572.918 Q81.9642 564.168 85.0197 559.585 Q88.0984 554.978 93.9086 554.978 Z\" fill=\"#000000\" fill-rule=\"evenodd\" fill-opacity=\"1\" /><path clip-path=\"url(#clip710)\" d=\"M53.793 361.64 L72.1494 361.64 L72.1494 365.576 L58.0754 365.576 L58.0754 374.048 Q59.0939 373.701 60.1124 373.539 Q61.131 373.353 62.1495 373.353 Q67.9365 373.353 71.3161 376.525 Q74.6957 379.696 74.6957 385.113 Q74.6957 390.691 71.2235 393.793 Q67.7513 396.872 61.4319 396.872 Q59.256 396.872 56.9875 396.501 Q54.7421 396.131 52.3347 395.39 L52.3347 390.691 Q54.418 391.825 56.6402 392.381 Q58.8625 392.937 61.3393 392.937 Q65.3439 392.937 67.6819 390.83 Q70.0198 388.724 70.0198 385.113 Q70.0198 381.501 67.6819 379.395 Q65.3439 377.289 61.3393 377.289 Q59.4643 377.289 57.5893 377.705 Q55.7375 378.122 53.793 379.001 L53.793 361.64 Z\" fill=\"#000000\" fill-rule=\"evenodd\" fill-opacity=\"1\" /><path clip-path=\"url(#clip710)\" d=\"M93.9086 364.719 Q90.2975 364.719 88.4688 368.284 Q86.6632 371.826 86.6632 378.955 Q86.6632 386.062 88.4688 389.626 Q90.2975 393.168 93.9086 393.168 Q97.5428 393.168 99.3483 389.626 Q101.177 386.062 101.177 378.955 Q101.177 371.826 99.3483 368.284 Q97.5428 364.719 93.9086 364.719 M93.9086 361.015 Q99.7187 361.015 102.774 365.622 Q105.853 370.205 105.853 378.955 Q105.853 387.682 102.774 392.288 Q99.7187 396.872 93.9086 396.872 Q88.0984 396.872 85.0197 392.288 Q81.9642 387.682 81.9642 378.955 Q81.9642 370.205 85.0197 365.622 Q88.0984 361.015 93.9086 361.015 Z\" fill=\"#000000\" fill-rule=\"evenodd\" fill-opacity=\"1\" /><path clip-path=\"url(#clip710)\" d=\"M64.3254 183.094 Q61.1773 183.094 59.3254 185.247 Q57.4967 187.4 57.4967 191.15 Q57.4967 194.877 59.3254 197.053 Q61.1773 199.205 64.3254 199.205 Q67.4735 199.205 69.3022 197.053 Q71.1541 194.877 71.1541 191.15 Q71.1541 187.4 69.3022 185.247 Q67.4735 183.094 64.3254 183.094 M73.6077 168.442 L73.6077 172.701 Q71.8485 171.867 70.0429 171.428 Q68.2606 170.988 66.5013 170.988 Q61.8717 170.988 59.418 174.113 Q56.9875 177.238 56.6402 183.557 Q58.006 181.543 60.0662 180.479 Q62.1263 179.391 64.6032 179.391 Q69.8115 179.391 72.8207 182.562 Q75.8531 185.71 75.8531 191.15 Q75.8531 196.474 72.705 199.691 Q69.5568 202.909 64.3254 202.909 Q58.33 202.909 55.1588 198.326 Q51.9875 193.719 51.9875 184.992 Q51.9875 176.798 55.8764 171.937 Q59.7652 167.053 66.3161 167.053 Q68.0754 167.053 69.8578 167.4 Q71.6633 167.747 73.6077 168.442 Z\" fill=\"#000000\" fill-rule=\"evenodd\" fill-opacity=\"1\" /><path clip-path=\"url(#clip710)\" d=\"M93.9086 170.756 Q90.2975 170.756 88.4688 174.321 Q86.6632 177.863 86.6632 184.992 Q86.6632 192.099 88.4688 195.664 Q90.2975 199.205 93.9086 199.205 Q97.5428 199.205 99.3483 195.664 Q101.177 192.099 101.177 184.992 Q101.177 177.863 99.3483 174.321 Q97.5428 170.756 93.9086 170.756 M93.9086 167.053 Q99.7187 167.053 102.774 171.659 Q105.853 176.242 105.853 184.992 Q105.853 193.719 102.774 198.326 Q99.7187 202.909 93.9086 202.909 Q88.0984 202.909 85.0197 198.326 Q81.9642 193.719 81.9642 184.992 Q81.9642 176.242 85.0197 171.659 Q88.0984 167.053 93.9086 167.053 Z\" fill=\"#000000\" fill-rule=\"evenodd\" fill-opacity=\"1\" /><polyline clip-path=\"url(#clip712)\" style=\"stroke:#009af9; stroke-linecap:butt; stroke-linejoin:round; stroke-width:4; stroke-opacity:1; fill:none\" points=\"\n",
       "  204.426,1086.88 225.283,1096.49 246.141,1105.89 266.998,1115.11 287.856,1124.13 308.714,1132.95 329.571,1141.58 350.429,1150.02 371.286,1158.26 392.144,1166.31 \n",
       "  413.001,1174.17 433.859,1181.83 454.717,1189.3 475.574,1196.57 496.432,1203.65 517.289,1210.54 538.147,1217.23 559.004,1223.73 579.862,1230.03 600.72,1236.14 \n",
       "  621.577,1242.05 642.435,1247.78 663.292,1253.3 684.15,1258.64 705.007,1263.78 725.865,1268.72 746.723,1273.48 767.58,1278.03 788.438,1282.4 809.295,1286.57 \n",
       "  830.153,1290.55 851.01,1294.33 871.868,1297.92 892.726,1301.31 913.583,1304.51 934.441,1307.52 955.298,1310.33 976.156,1312.95 997.014,1315.37 1017.87,1317.6 \n",
       "  1038.73,1319.64 1059.59,1321.48 1080.44,1323.13 1101.3,1324.59 1122.16,1325.85 1143.02,1326.91 1163.87,1327.79 1184.73,1328.47 1205.59,1328.95 1226.45,1329.24 \n",
       "  1247.3,1329.34 1268.16,1342.53 1289.02,1335.54 1309.88,1327.79 1330.73,1319.25 1351.59,1309.94 1372.45,1299.86 1393.31,1288.99 1414.17,1277.36 1435.02,1264.94 \n",
       "  1455.88,1251.75 1476.74,1237.79 1497.6,1223.05 1518.45,1207.53 1539.31,1191.24 1560.17,1174.17 1581.03,1156.32 1601.88,1137.7 1622.74,1118.31 1643.6,1098.13 \n",
       "  1664.46,1077.19 1685.31,1055.46 1706.17,1032.96 1727.03,1009.69 1747.89,985.636 1768.74,960.809 1789.6,935.206 1810.46,908.827 1831.32,881.672 1852.17,853.741 \n",
       "  1873.03,825.035 1893.89,795.552 1914.75,765.294 1935.6,734.26 1956.46,702.45 1977.32,669.865 1998.18,636.503 2019.03,602.366 2039.89,567.452 2060.75,531.763 \n",
       "  2081.61,495.298 2102.47,458.057 2123.32,420.041 2144.18,381.248 2165.04,341.68 2185.9,301.335 2206.75,260.215 2227.61,218.319 2248.47,175.647 2269.33,132.2 \n",
       "  2290.18,87.9763 \n",
       "  \"/>\n",
       "<polyline clip-path=\"url(#clip712)\" style=\"stroke:#e26f46; stroke-linecap:butt; stroke-linejoin:round; stroke-width:4; stroke-opacity:1; fill:none\" points=\"\n",
       "  204.426,1445.72 225.283,1443.78 246.141,1441.84 266.998,1439.9 287.856,1437.96 308.714,1436.02 329.571,1434.08 350.429,1432.14 371.286,1430.2 392.144,1428.26 \n",
       "  413.001,1426.32 433.859,1424.38 454.717,1422.44 475.574,1420.5 496.432,1418.56 517.289,1416.62 538.147,1414.68 559.004,1412.74 579.862,1410.8 600.72,1408.86 \n",
       "  621.577,1406.92 642.435,1404.98 663.292,1403.04 684.15,1401.1 705.007,1399.16 725.865,1397.22 746.723,1395.29 767.58,1393.35 788.438,1391.41 809.295,1389.47 \n",
       "  830.153,1387.53 851.01,1385.59 871.868,1383.65 892.726,1381.71 913.583,1379.77 934.441,1377.83 955.298,1375.89 976.156,1373.95 997.014,1372.01 1017.87,1370.07 \n",
       "  1038.73,1368.13 1059.59,1366.19 1080.44,1364.25 1101.3,1362.31 1122.16,1360.37 1143.02,1358.43 1163.87,1356.49 1184.73,1354.55 1205.59,1352.61 1226.45,1350.67 \n",
       "  1247.3,1348.73 1268.16,1282.79 1289.02,1275.03 1309.88,1267.27 1330.73,1259.51 1351.59,1251.75 1372.45,1243.99 1393.31,1236.24 1414.17,1228.48 1435.02,1220.72 \n",
       "  1455.88,1212.96 1476.74,1205.2 1497.6,1197.44 1518.45,1189.68 1539.31,1181.93 1560.17,1174.17 1581.03,1166.41 1601.88,1158.65 1622.74,1150.89 1643.6,1143.13 \n",
       "  1664.46,1135.38 1685.31,1127.62 1706.17,1119.86 1727.03,1112.1 1747.89,1104.34 1768.74,1096.58 1789.6,1088.82 1810.46,1081.07 1831.32,1073.31 1852.17,1065.55 \n",
       "  1873.03,1057.79 1893.89,1050.03 1914.75,1042.27 1935.6,1034.51 1956.46,1026.76 1977.32,1019 1998.18,1011.24 2019.03,1003.48 2039.89,995.722 2060.75,987.964 \n",
       "  2081.61,980.205 2102.47,972.447 2123.32,964.688 2144.18,956.93 2165.04,949.171 2185.9,941.412 2206.75,933.654 2227.61,925.895 2248.47,918.137 2269.33,910.378 \n",
       "  2290.18,902.62 \n",
       "  \"/>\n",
       "<path clip-path=\"url(#clip710)\" d=\"\n",
       "M1622.87 250.738 L2279.06 250.738 L2279.06 95.2176 L1622.87 95.2176  Z\n",
       "  \" fill=\"#ffffff\" fill-rule=\"evenodd\" fill-opacity=\"1\"/>\n",
       "<polyline clip-path=\"url(#clip710)\" style=\"stroke:#000000; stroke-linecap:butt; stroke-linejoin:round; stroke-width:4; stroke-opacity:1; fill:none\" points=\"\n",
       "  1622.87,250.738 2279.06,250.738 2279.06,95.2176 1622.87,95.2176 1622.87,250.738 \n",
       "  \"/>\n",
       "<polyline clip-path=\"url(#clip710)\" style=\"stroke:#009af9; stroke-linecap:butt; stroke-linejoin:round; stroke-width:4; stroke-opacity:1; fill:none\" points=\"\n",
       "  1647.44,147.058 1794.83,147.058 \n",
       "  \"/>\n",
       "<path clip-path=\"url(#clip710)\" d=\"M1839.74 143.389 Q1841.34 140.518 1843.56 139.153 Q1845.79 137.787 1848.8 137.787 Q1852.85 137.787 1855.05 140.634 Q1857.24 143.458 1857.24 148.689 L1857.24 164.338 L1852.96 164.338 L1852.96 148.828 Q1852.96 145.102 1851.64 143.296 Q1850.32 141.49 1847.62 141.49 Q1844.31 141.49 1842.38 143.69 Q1840.46 145.889 1840.46 149.685 L1840.46 164.338 L1836.18 164.338 L1836.18 148.828 Q1836.18 145.078 1834.86 143.296 Q1833.54 141.49 1830.79 141.49 Q1827.52 141.49 1825.6 143.713 Q1823.68 145.912 1823.68 149.685 L1823.68 164.338 L1819.4 164.338 L1819.4 138.412 L1823.68 138.412 L1823.68 142.44 Q1825.14 140.055 1827.18 138.921 Q1829.21 137.787 1832.01 137.787 Q1834.84 137.787 1836.81 139.222 Q1838.8 140.657 1839.74 143.389 Z\" fill=\"#000000\" fill-rule=\"evenodd\" fill-opacity=\"1\" /><path clip-path=\"url(#clip710)\" d=\"M1876.53 166.745 Q1874.72 171.375 1873.01 172.787 Q1871.3 174.199 1868.43 174.199 L1865.02 174.199 L1865.02 170.634 L1867.52 170.634 Q1869.28 170.634 1870.25 169.8 Q1871.23 168.967 1872.41 165.865 L1873.17 163.921 L1862.68 138.412 L1867.2 138.412 L1875.3 158.689 L1883.4 138.412 L1887.92 138.412 L1876.53 166.745 Z\" fill=\"#000000\" fill-rule=\"evenodd\" fill-opacity=\"1\" /><path clip-path=\"url(#clip710)\" d=\"M1913.49 172.208 L1913.49 175.518 L1888.86 175.518 L1888.86 172.208 L1913.49 172.208 Z\" fill=\"#000000\" fill-rule=\"evenodd\" fill-opacity=\"1\" /><path clip-path=\"url(#clip710)\" d=\"M1921.71 131.051 L1921.71 138.412 L1930.49 138.412 L1930.49 141.722 L1921.71 141.722 L1921.71 155.796 Q1921.71 158.967 1922.57 159.87 Q1923.45 160.773 1926.11 160.773 L1930.49 160.773 L1930.49 164.338 L1926.11 164.338 Q1921.18 164.338 1919.3 162.509 Q1917.43 160.657 1917.43 155.796 L1917.43 141.722 L1914.3 141.722 L1914.3 138.412 L1917.43 138.412 L1917.43 131.051 L1921.71 131.051 Z\" fill=\"#000000\" fill-rule=\"evenodd\" fill-opacity=\"1\" /><path clip-path=\"url(#clip710)\" d=\"M1958.26 150.31 L1958.26 152.393 L1938.68 152.393 Q1938.96 156.791 1941.32 159.106 Q1943.7 161.398 1947.94 161.398 Q1950.39 161.398 1952.68 160.796 Q1955 160.194 1957.27 158.99 L1957.27 163.018 Q1954.98 163.99 1952.57 164.5 Q1950.16 165.009 1947.68 165.009 Q1941.48 165.009 1937.85 161.398 Q1934.24 157.787 1934.24 151.629 Q1934.24 145.264 1937.66 141.537 Q1941.11 137.787 1946.94 137.787 Q1952.17 137.787 1955.21 141.166 Q1958.26 144.523 1958.26 150.31 M1954 149.06 Q1953.96 145.565 1952.04 143.481 Q1950.14 141.398 1946.99 141.398 Q1943.42 141.398 1941.27 143.412 Q1939.14 145.426 1938.82 149.083 L1954 149.06 Z\" fill=\"#000000\" fill-rule=\"evenodd\" fill-opacity=\"1\" /><path clip-path=\"url(#clip710)\" d=\"M1981.78 139.176 L1981.78 143.203 Q1979.98 142.277 1978.03 141.815 Q1976.09 141.352 1974 141.352 Q1970.83 141.352 1969.23 142.324 Q1967.66 143.296 1967.66 145.24 Q1967.66 146.722 1968.8 147.578 Q1969.93 148.412 1973.36 149.176 L1974.81 149.5 Q1979.35 150.472 1981.25 152.254 Q1983.17 154.014 1983.17 157.185 Q1983.17 160.796 1980.3 162.902 Q1977.45 165.009 1972.45 165.009 Q1970.37 165.009 1968.1 164.592 Q1965.86 164.199 1963.36 163.388 L1963.36 158.99 Q1965.72 160.217 1968.01 160.842 Q1970.3 161.444 1972.55 161.444 Q1975.55 161.444 1977.17 160.426 Q1978.8 159.384 1978.8 157.509 Q1978.8 155.773 1977.61 154.847 Q1976.46 153.921 1972.5 153.064 L1971.02 152.717 Q1967.06 151.884 1965.3 150.171 Q1963.54 148.435 1963.54 145.426 Q1963.54 141.768 1966.13 139.778 Q1968.73 137.787 1973.49 137.787 Q1975.86 137.787 1977.94 138.134 Q1980.02 138.481 1981.78 139.176 Z\" fill=\"#000000\" fill-rule=\"evenodd\" fill-opacity=\"1\" /><path clip-path=\"url(#clip710)\" d=\"M1994.17 131.051 L1994.17 138.412 L2002.94 138.412 L2002.94 141.722 L1994.17 141.722 L1994.17 155.796 Q1994.17 158.967 1995.02 159.87 Q1995.9 160.773 1998.56 160.773 L2002.94 160.773 L2002.94 164.338 L1998.56 164.338 Q1993.63 164.338 1991.76 162.509 Q1989.88 160.657 1989.88 155.796 L1989.88 141.722 L1986.76 141.722 L1986.76 138.412 L1989.88 138.412 L1989.88 131.051 L1994.17 131.051 Z\" fill=\"#000000\" fill-rule=\"evenodd\" fill-opacity=\"1\" /><path clip-path=\"url(#clip710)\" d=\"M2028.24 172.208 L2028.24 175.518 L2003.61 175.518 L2003.61 172.208 L2028.24 172.208 Z\" fill=\"#000000\" fill-rule=\"evenodd\" fill-opacity=\"1\" /><path clip-path=\"url(#clip710)\" d=\"M2045.37 128.319 L2045.37 131.861 L2041.29 131.861 Q2039 131.861 2038.1 132.787 Q2037.22 133.713 2037.22 136.12 L2037.22 138.412 L2044.23 138.412 L2044.23 141.722 L2037.22 141.722 L2037.22 164.338 L2032.94 164.338 L2032.94 141.722 L2028.86 141.722 L2028.86 138.412 L2032.94 138.412 L2032.94 136.606 Q2032.94 132.278 2034.95 130.31 Q2036.97 128.319 2041.34 128.319 L2045.37 128.319 Z\" fill=\"#000000\" fill-rule=\"evenodd\" fill-opacity=\"1\" /><path clip-path=\"url(#clip710)\" d=\"M2048.49 154.106 L2048.49 138.412 L2052.75 138.412 L2052.75 153.944 Q2052.75 157.625 2054.19 159.476 Q2055.62 161.305 2058.49 161.305 Q2061.94 161.305 2063.93 159.106 Q2065.95 156.907 2065.95 153.111 L2065.95 138.412 L2070.21 138.412 L2070.21 164.338 L2065.95 164.338 L2065.95 160.356 Q2064.4 162.717 2062.34 163.875 Q2060.3 165.009 2057.59 165.009 Q2053.12 165.009 2050.81 162.231 Q2048.49 159.453 2048.49 154.106 M2059.21 137.787 L2059.21 137.787 Z\" fill=\"#000000\" fill-rule=\"evenodd\" fill-opacity=\"1\" /><path clip-path=\"url(#clip710)\" d=\"M2100.53 148.689 L2100.53 164.338 L2096.27 164.338 L2096.27 148.828 Q2096.27 145.148 2094.84 143.319 Q2093.4 141.49 2090.53 141.49 Q2087.08 141.49 2085.09 143.69 Q2083.1 145.889 2083.1 149.685 L2083.1 164.338 L2078.82 164.338 L2078.82 138.412 L2083.1 138.412 L2083.1 142.44 Q2084.63 140.102 2086.69 138.944 Q2088.77 137.787 2091.48 137.787 Q2095.95 137.787 2098.24 140.565 Q2100.53 143.319 2100.53 148.689 Z\" fill=\"#000000\" fill-rule=\"evenodd\" fill-opacity=\"1\" /><path clip-path=\"url(#clip710)\" d=\"M2127.68 139.407 L2127.68 143.389 Q2125.88 142.393 2124.05 141.907 Q2122.24 141.398 2120.39 141.398 Q2116.25 141.398 2113.96 144.037 Q2111.66 146.652 2111.66 151.398 Q2111.66 156.143 2113.96 158.782 Q2116.25 161.398 2120.39 161.398 Q2122.24 161.398 2124.05 160.912 Q2125.88 160.402 2127.68 159.407 L2127.68 163.342 Q2125.9 164.176 2123.98 164.592 Q2122.08 165.009 2119.93 165.009 Q2114.07 165.009 2110.62 161.328 Q2107.17 157.648 2107.17 151.398 Q2107.17 145.055 2110.65 141.421 Q2114.14 137.787 2120.21 137.787 Q2122.17 137.787 2124.05 138.203 Q2125.92 138.597 2127.68 139.407 Z\" fill=\"#000000\" fill-rule=\"evenodd\" fill-opacity=\"1\" /><path clip-path=\"url(#clip710)\" d=\"M2139.3 131.051 L2139.3 138.412 L2148.08 138.412 L2148.08 141.722 L2139.3 141.722 L2139.3 155.796 Q2139.3 158.967 2140.16 159.87 Q2141.04 160.773 2143.7 160.773 L2148.08 160.773 L2148.08 164.338 L2143.7 164.338 Q2138.77 164.338 2136.9 162.509 Q2135.02 160.657 2135.02 155.796 L2135.02 141.722 L2131.9 141.722 L2131.9 138.412 L2135.02 138.412 L2135.02 131.051 L2139.3 131.051 Z\" fill=\"#000000\" fill-rule=\"evenodd\" fill-opacity=\"1\" /><path clip-path=\"url(#clip710)\" d=\"M2153.68 138.412 L2157.94 138.412 L2157.94 164.338 L2153.68 164.338 L2153.68 138.412 M2153.68 128.319 L2157.94 128.319 L2157.94 133.713 L2153.68 133.713 L2153.68 128.319 Z\" fill=\"#000000\" fill-rule=\"evenodd\" fill-opacity=\"1\" /><path clip-path=\"url(#clip710)\" d=\"M2176.9 141.398 Q2173.47 141.398 2171.48 144.083 Q2169.49 146.745 2169.49 151.398 Q2169.49 156.051 2171.46 158.736 Q2173.45 161.398 2176.9 161.398 Q2180.3 161.398 2182.29 158.713 Q2184.28 156.027 2184.28 151.398 Q2184.28 146.791 2182.29 144.106 Q2180.3 141.398 2176.9 141.398 M2176.9 137.787 Q2182.45 137.787 2185.62 141.398 Q2188.79 145.009 2188.79 151.398 Q2188.79 157.764 2185.62 161.398 Q2182.45 165.009 2176.9 165.009 Q2171.32 165.009 2168.15 161.398 Q2165 157.764 2165 151.398 Q2165 145.009 2168.15 141.398 Q2171.32 137.787 2176.9 137.787 Z\" fill=\"#000000\" fill-rule=\"evenodd\" fill-opacity=\"1\" /><path clip-path=\"url(#clip710)\" d=\"M2217.4 148.689 L2217.4 164.338 L2213.15 164.338 L2213.15 148.828 Q2213.15 145.148 2211.71 143.319 Q2210.28 141.49 2207.4 141.49 Q2203.96 141.49 2201.97 143.69 Q2199.97 145.889 2199.97 149.685 L2199.97 164.338 L2195.69 164.338 L2195.69 138.412 L2199.97 138.412 L2199.97 142.44 Q2201.5 140.102 2203.56 138.944 Q2205.65 137.787 2208.35 137.787 Q2212.82 137.787 2215.11 140.565 Q2217.4 143.319 2217.4 148.689 Z\" fill=\"#000000\" fill-rule=\"evenodd\" fill-opacity=\"1\" /><polyline clip-path=\"url(#clip710)\" style=\"stroke:#e26f46; stroke-linecap:butt; stroke-linejoin:round; stroke-width:4; stroke-opacity:1; fill:none\" points=\"\n",
       "  1647.44,198.898 1794.83,198.898 \n",
       "  \"/>\n",
       "<path clip-path=\"url(#clip710)\" d=\"M1839.74 195.229 Q1841.34 192.358 1843.56 190.993 Q1845.79 189.627 1848.8 189.627 Q1852.85 189.627 1855.05 192.474 Q1857.24 195.298 1857.24 200.529 L1857.24 216.178 L1852.96 216.178 L1852.96 200.668 Q1852.96 196.942 1851.64 195.136 Q1850.32 193.33 1847.62 193.33 Q1844.31 193.33 1842.38 195.53 Q1840.46 197.729 1840.46 201.525 L1840.46 216.178 L1836.18 216.178 L1836.18 200.668 Q1836.18 196.918 1834.86 195.136 Q1833.54 193.33 1830.79 193.33 Q1827.52 193.33 1825.6 195.553 Q1823.68 197.752 1823.68 201.525 L1823.68 216.178 L1819.4 216.178 L1819.4 190.252 L1823.68 190.252 L1823.68 194.28 Q1825.14 191.895 1827.18 190.761 Q1829.21 189.627 1832.01 189.627 Q1834.84 189.627 1836.81 191.062 Q1838.8 192.497 1839.74 195.229 Z\" fill=\"#000000\" fill-rule=\"evenodd\" fill-opacity=\"1\" /><path clip-path=\"url(#clip710)\" d=\"M1876.53 218.585 Q1874.72 223.215 1873.01 224.627 Q1871.3 226.039 1868.43 226.039 L1865.02 226.039 L1865.02 222.474 L1867.52 222.474 Q1869.28 222.474 1870.25 221.64 Q1871.23 220.807 1872.41 217.705 L1873.17 215.761 L1862.68 190.252 L1867.2 190.252 L1875.3 210.529 L1883.4 190.252 L1887.92 190.252 L1876.53 218.585 Z\" fill=\"#000000\" fill-rule=\"evenodd\" fill-opacity=\"1\" /><path clip-path=\"url(#clip710)\" d=\"M1913.49 224.048 L1913.49 227.358 L1888.86 227.358 L1888.86 224.048 L1913.49 224.048 Z\" fill=\"#000000\" fill-rule=\"evenodd\" fill-opacity=\"1\" /><path clip-path=\"url(#clip710)\" d=\"M1921.71 182.891 L1921.71 190.252 L1930.49 190.252 L1930.49 193.562 L1921.71 193.562 L1921.71 207.636 Q1921.71 210.807 1922.57 211.71 Q1923.45 212.613 1926.11 212.613 L1930.49 212.613 L1930.49 216.178 L1926.11 216.178 Q1921.18 216.178 1919.3 214.349 Q1917.43 212.497 1917.43 207.636 L1917.43 193.562 L1914.3 193.562 L1914.3 190.252 L1917.43 190.252 L1917.43 182.891 L1921.71 182.891 Z\" fill=\"#000000\" fill-rule=\"evenodd\" fill-opacity=\"1\" /><path clip-path=\"url(#clip710)\" d=\"M1958.26 202.15 L1958.26 204.233 L1938.68 204.233 Q1938.96 208.631 1941.32 210.946 Q1943.7 213.238 1947.94 213.238 Q1950.39 213.238 1952.68 212.636 Q1955 212.034 1957.27 210.83 L1957.27 214.858 Q1954.98 215.83 1952.57 216.34 Q1950.16 216.849 1947.68 216.849 Q1941.48 216.849 1937.85 213.238 Q1934.24 209.627 1934.24 203.469 Q1934.24 197.104 1937.66 193.377 Q1941.11 189.627 1946.94 189.627 Q1952.17 189.627 1955.21 193.006 Q1958.26 196.363 1958.26 202.15 M1954 200.9 Q1953.96 197.405 1952.04 195.321 Q1950.14 193.238 1946.99 193.238 Q1943.42 193.238 1941.27 195.252 Q1939.14 197.266 1938.82 200.923 L1954 200.9 Z\" fill=\"#000000\" fill-rule=\"evenodd\" fill-opacity=\"1\" /><path clip-path=\"url(#clip710)\" d=\"M1981.78 191.016 L1981.78 195.043 Q1979.98 194.117 1978.03 193.655 Q1976.09 193.192 1974 193.192 Q1970.83 193.192 1969.23 194.164 Q1967.66 195.136 1967.66 197.08 Q1967.66 198.562 1968.8 199.418 Q1969.93 200.252 1973.36 201.016 L1974.81 201.34 Q1979.35 202.312 1981.25 204.094 Q1983.17 205.854 1983.17 209.025 Q1983.17 212.636 1980.3 214.742 Q1977.45 216.849 1972.45 216.849 Q1970.37 216.849 1968.1 216.432 Q1965.86 216.039 1963.36 215.228 L1963.36 210.83 Q1965.72 212.057 1968.01 212.682 Q1970.3 213.284 1972.55 213.284 Q1975.55 213.284 1977.17 212.266 Q1978.8 211.224 1978.8 209.349 Q1978.8 207.613 1977.61 206.687 Q1976.46 205.761 1972.5 204.904 L1971.02 204.557 Q1967.06 203.724 1965.3 202.011 Q1963.54 200.275 1963.54 197.266 Q1963.54 193.608 1966.13 191.618 Q1968.73 189.627 1973.49 189.627 Q1975.86 189.627 1977.94 189.974 Q1980.02 190.321 1981.78 191.016 Z\" fill=\"#000000\" fill-rule=\"evenodd\" fill-opacity=\"1\" /><path clip-path=\"url(#clip710)\" d=\"M1994.17 182.891 L1994.17 190.252 L2002.94 190.252 L2002.94 193.562 L1994.17 193.562 L1994.17 207.636 Q1994.17 210.807 1995.02 211.71 Q1995.9 212.613 1998.56 212.613 L2002.94 212.613 L2002.94 216.178 L1998.56 216.178 Q1993.63 216.178 1991.76 214.349 Q1989.88 212.497 1989.88 207.636 L1989.88 193.562 L1986.76 193.562 L1986.76 190.252 L1989.88 190.252 L1989.88 182.891 L1994.17 182.891 Z\" fill=\"#000000\" fill-rule=\"evenodd\" fill-opacity=\"1\" /><path clip-path=\"url(#clip710)\" d=\"M2028.24 224.048 L2028.24 227.358 L2003.61 227.358 L2003.61 224.048 L2028.24 224.048 Z\" fill=\"#000000\" fill-rule=\"evenodd\" fill-opacity=\"1\" /><path clip-path=\"url(#clip710)\" d=\"M2045.37 180.159 L2045.37 183.701 L2041.29 183.701 Q2039 183.701 2038.1 184.627 Q2037.22 185.553 2037.22 187.96 L2037.22 190.252 L2044.23 190.252 L2044.23 193.562 L2037.22 193.562 L2037.22 216.178 L2032.94 216.178 L2032.94 193.562 L2028.86 193.562 L2028.86 190.252 L2032.94 190.252 L2032.94 188.446 Q2032.94 184.118 2034.95 182.15 Q2036.97 180.159 2041.34 180.159 L2045.37 180.159 Z\" fill=\"#000000\" fill-rule=\"evenodd\" fill-opacity=\"1\" /><path clip-path=\"url(#clip710)\" d=\"M2048.49 205.946 L2048.49 190.252 L2052.75 190.252 L2052.75 205.784 Q2052.75 209.465 2054.19 211.316 Q2055.62 213.145 2058.49 213.145 Q2061.94 213.145 2063.93 210.946 Q2065.95 208.747 2065.95 204.951 L2065.95 190.252 L2070.21 190.252 L2070.21 216.178 L2065.95 216.178 L2065.95 212.196 Q2064.4 214.557 2062.34 215.715 Q2060.3 216.849 2057.59 216.849 Q2053.12 216.849 2050.81 214.071 Q2048.49 211.293 2048.49 205.946 M2059.21 189.627 L2059.21 189.627 Z\" fill=\"#000000\" fill-rule=\"evenodd\" fill-opacity=\"1\" /><path clip-path=\"url(#clip710)\" d=\"M2100.53 200.529 L2100.53 216.178 L2096.27 216.178 L2096.27 200.668 Q2096.27 196.988 2094.84 195.159 Q2093.4 193.33 2090.53 193.33 Q2087.08 193.33 2085.09 195.53 Q2083.1 197.729 2083.1 201.525 L2083.1 216.178 L2078.82 216.178 L2078.82 190.252 L2083.1 190.252 L2083.1 194.28 Q2084.63 191.942 2086.69 190.784 Q2088.77 189.627 2091.48 189.627 Q2095.95 189.627 2098.24 192.405 Q2100.53 195.159 2100.53 200.529 Z\" fill=\"#000000\" fill-rule=\"evenodd\" fill-opacity=\"1\" /><path clip-path=\"url(#clip710)\" d=\"M2127.68 191.247 L2127.68 195.229 Q2125.88 194.233 2124.05 193.747 Q2122.24 193.238 2120.39 193.238 Q2116.25 193.238 2113.96 195.877 Q2111.66 198.492 2111.66 203.238 Q2111.66 207.983 2113.96 210.622 Q2116.25 213.238 2120.39 213.238 Q2122.24 213.238 2124.05 212.752 Q2125.88 212.242 2127.68 211.247 L2127.68 215.182 Q2125.9 216.016 2123.98 216.432 Q2122.08 216.849 2119.93 216.849 Q2114.07 216.849 2110.62 213.168 Q2107.17 209.488 2107.17 203.238 Q2107.17 196.895 2110.65 193.261 Q2114.14 189.627 2120.21 189.627 Q2122.17 189.627 2124.05 190.043 Q2125.92 190.437 2127.68 191.247 Z\" fill=\"#000000\" fill-rule=\"evenodd\" fill-opacity=\"1\" /><path clip-path=\"url(#clip710)\" d=\"M2139.3 182.891 L2139.3 190.252 L2148.08 190.252 L2148.08 193.562 L2139.3 193.562 L2139.3 207.636 Q2139.3 210.807 2140.16 211.71 Q2141.04 212.613 2143.7 212.613 L2148.08 212.613 L2148.08 216.178 L2143.7 216.178 Q2138.77 216.178 2136.9 214.349 Q2135.02 212.497 2135.02 207.636 L2135.02 193.562 L2131.9 193.562 L2131.9 190.252 L2135.02 190.252 L2135.02 182.891 L2139.3 182.891 Z\" fill=\"#000000\" fill-rule=\"evenodd\" fill-opacity=\"1\" /><path clip-path=\"url(#clip710)\" d=\"M2153.68 190.252 L2157.94 190.252 L2157.94 216.178 L2153.68 216.178 L2153.68 190.252 M2153.68 180.159 L2157.94 180.159 L2157.94 185.553 L2153.68 185.553 L2153.68 180.159 Z\" fill=\"#000000\" fill-rule=\"evenodd\" fill-opacity=\"1\" /><path clip-path=\"url(#clip710)\" d=\"M2176.9 193.238 Q2173.47 193.238 2171.48 195.923 Q2169.49 198.585 2169.49 203.238 Q2169.49 207.891 2171.46 210.576 Q2173.45 213.238 2176.9 213.238 Q2180.3 213.238 2182.29 210.553 Q2184.28 207.867 2184.28 203.238 Q2184.28 198.631 2182.29 195.946 Q2180.3 193.238 2176.9 193.238 M2176.9 189.627 Q2182.45 189.627 2185.62 193.238 Q2188.79 196.849 2188.79 203.238 Q2188.79 209.604 2185.62 213.238 Q2182.45 216.849 2176.9 216.849 Q2171.32 216.849 2168.15 213.238 Q2165 209.604 2165 203.238 Q2165 196.849 2168.15 193.238 Q2171.32 189.627 2176.9 189.627 Z\" fill=\"#000000\" fill-rule=\"evenodd\" fill-opacity=\"1\" /><path clip-path=\"url(#clip710)\" d=\"M2217.4 200.529 L2217.4 216.178 L2213.15 216.178 L2213.15 200.668 Q2213.15 196.988 2211.71 195.159 Q2210.28 193.33 2207.4 193.33 Q2203.96 193.33 2201.97 195.53 Q2199.97 197.729 2199.97 201.525 L2199.97 216.178 L2195.69 216.178 L2195.69 190.252 L2199.97 190.252 L2199.97 194.28 Q2201.5 191.942 2203.56 190.784 Q2205.65 189.627 2208.35 189.627 Q2212.82 189.627 2215.11 192.405 Q2217.4 195.159 2217.4 200.529 Z\" fill=\"#000000\" fill-rule=\"evenodd\" fill-opacity=\"1\" /><path clip-path=\"url(#clip710)\" d=\"M2229.93 181.618 L2229.93 194.465 L2225.99 194.465 L2225.99 181.618 L2229.93 181.618 Z\" fill=\"#000000\" fill-rule=\"evenodd\" fill-opacity=\"1\" /></svg>\n"
      ]
     },
     "execution_count": 21,
     "metadata": {},
     "output_type": "execute_result"
    }
   ],
   "source": [
    "function my_test_function(X)\n",
    "    if value(X) > 0\n",
    "        Y = X*X*2.0 + 3.0*X\n",
    "    else\n",
    "        Y = 0.5*X*X + 1.0\n",
    "    end\n",
    "    return Y\n",
    "end\n",
    "\n",
    "X = [AD(x, 1.0) for x in -5.0:0.1:5.0]\n",
    "Y = my_test_function.(X)\n",
    "using Plots\n",
    "plot(value.(Y), label = \"my_test_function\")\n",
    "plot!(derivative.(Y), label = \"my_test_function'\")"
   ]
  },
  {
   "cell_type": "markdown",
   "metadata": {
    "slideshow": {
     "slide_type": "slide"
    }
   },
   "source": [
    "## Numerous numbers\n",
    "The `AD` type is generic for any kind of `Number`, so we can immediately try complex numbers:"
   ]
  },
  {
   "cell_type": "code",
   "execution_count": 14,
   "metadata": {},
   "outputs": [
    {
     "data": {
      "text/plain": [
       "⟨6.0 + 1.9im, ∂/∂x=1.0 + 0.5im⟩"
      ]
     },
     "execution_count": 14,
     "metadata": {},
     "output_type": "execute_result"
    }
   ],
   "source": [
    "AD(1.0 + 2im, 1.0) + AD(5.0 - 0.1im, 0.5im)"
   ]
  },
  {
   "cell_type": "markdown",
   "metadata": {
    "slideshow": {
     "slide_type": "slide"
    }
   },
   "source": [
    "Our use of `promote_rule` now really pays off -- we can mix complex and real numbers with our AD type without issue, as the reals are first promoted to complex, and complex to dual!"
   ]
  },
  {
   "cell_type": "code",
   "execution_count": 15,
   "metadata": {},
   "outputs": [
    {
     "data": {
      "text/plain": [
       "⟨6.0 + 2.0im, ∂/∂x=2.0⟩"
      ]
     },
     "execution_count": 15,
     "metadata": {},
     "output_type": "execute_result"
    }
   ],
   "source": [
    "AD(1.0 + 2im, 1.0) + AD(5.0, 1.0)"
   ]
  },
  {
   "cell_type": "markdown",
   "metadata": {
    "slideshow": {
     "slide_type": "slide"
    }
   },
   "source": [
    "## Numbers wrapping Numbers\n",
    "We defined our AD class to work on `Number` instances for both value and derivative. Note that we did not specify that the value and derivative should be the same type of number. Maybe you also saw that our `AD` type itself is *also* a number? We have secretly been implementing derivatives of **any** order."
   ]
  },
  {
   "cell_type": "code",
   "execution_count": 16,
   "metadata": {},
   "outputs": [
    {
     "data": {
      "text/plain": [
       "⟨5.1, ∂/∂x=⟨3.85, ∂/∂x=2.4000000000000004⟩⟩"
      ]
     },
     "execution_count": 16,
     "metadata": {},
     "output_type": "execute_result"
    }
   ],
   "source": [
    "# X has value 1.5, X' = 1.0, X'' = 0.8\n",
    "X = AD(1.5, AD(1.0, 0.8))\n",
    "# Y has value 3, Y' = 0.5, Y'' = 0\n",
    "Y = AD(3.0, 0.5)\n",
    "F = X*Y + 0.2*Y"
   ]
  },
  {
   "cell_type": "code",
   "execution_count": 17,
   "metadata": {
    "slideshow": {
     "slide_type": "slide"
    }
   },
   "outputs": [
    {
     "data": {
      "text/plain": [
       "5.1"
      ]
     },
     "execution_count": 17,
     "metadata": {},
     "output_type": "execute_result"
    }
   ],
   "source": [
    "value(F)"
   ]
  },
  {
   "cell_type": "code",
   "execution_count": 18,
   "metadata": {
    "slideshow": {
     "slide_type": "-"
    }
   },
   "outputs": [
    {
     "data": {
      "text/plain": [
       "⟨3.85, ∂/∂x=2.4000000000000004⟩"
      ]
     },
     "execution_count": 18,
     "metadata": {},
     "output_type": "execute_result"
    }
   ],
   "source": [
    "derivative(F)"
   ]
  },
  {
   "cell_type": "code",
   "execution_count": 19,
   "metadata": {
    "slideshow": {
     "slide_type": "-"
    }
   },
   "outputs": [
    {
     "data": {
      "text/plain": [
       "2.4000000000000004"
      ]
     },
     "execution_count": 19,
     "metadata": {},
     "output_type": "execute_result"
    }
   ],
   "source": [
    "derivative(derivative(F))"
   ]
  },
  {
   "cell_type": "markdown",
   "metadata": {
    "slideshow": {
     "slide_type": "slide"
    }
   },
   "source": [
    "## A note on performance and concrete types\n",
    "We have now seen that it is easy to implement `AD` with Julia (and many other languages). Our `AD` type is not as performant as it could be, however, as the type does not actually encode what kind of types the value and derivative are -- we just check in the constructor that they are numbers. For the compiler, this means that it is very hard to predict what methods to call for any given `AD` instance. Performance can be significantly increased if we make the type *parametric* on the type of the value and derivative so that a unique type is defined for each type of variable derivative type pair.\n",
    "\n",
    "The nice thing about Julia is that it is easy enough to skip type details when you are writing code, and then optimize once the structure is settled. Here is a quick draft of how an optimized type might look like:\n",
    "```julia\n",
    "struct AD{V, D} <: Number\n",
    "    v::V\n",
    "    dv::D\n",
    "end\n",
    "# Constructor without derivative (for e.g. Float64 -> AD)\n",
    "AD{T, V}(v) where {T, V} = AD(convert(T, v), zero(V))\n",
    "\n",
    "# Constructor with derivative\n",
    "AD(v::T, ∂::D) where {T,D} = AD{T, D}(v, ∂)\n",
    "AD(v::T) where T = AD(v, zero(T))\n",
    "```"
   ]
  },
  {
   "cell_type": "markdown",
   "metadata": {
    "slideshow": {
     "slide_type": "slide"
    }
   },
   "source": [
    "## Try it yourself\n",
    "1. Implement a few more operators like `Base.sin`, `Base.exp` from [the standard library](https://docs.julialang.org/en/v1/manual/mathematical-operations/) and create a more interesting version of `my_test_function` of your own devising.\n",
    "2. We defined scalar `AD` with repect to a single variable. How can this type be used to obtain gradients?\n",
    "3. Our type is essentially a simplified version of the [ForwardDiff.jl](https://github.com/JuliaDiff/ForwardDiff.jl) dual number type implemented [here](https://github.com/JuliaDiff/ForwardDiff.jl/blob/master/src/dual.jl). Take a look at the source code for a performance-critical Julia type - how different is it from our simple \"MATLAB/Python-like code\"?\n",
    "\n",
    "10 minutes, then we discuss these points together."
   ]
  },
  {
   "cell_type": "code",
   "execution_count": 20,
   "metadata": {
    "slideshow": {
     "slide_type": "slide"
    }
   },
   "outputs": [
    {
     "ename": "LoadError",
     "evalue": "This is where you come in...",
     "output_type": "error",
     "traceback": [
      "This is where you come in...",
      "",
      "Stacktrace:",
      " [1] error(s::String)",
      "   @ Base .\\error.jl:33",
      " [2] sin(x::AD)",
      "   @ Main .\\In[20]:3",
      " [3] top-level scope",
      "   @ In[20]:6",
      " [4] eval",
      "   @ .\\boot.jl:373 [inlined]",
      " [5] include_string(mapexpr::typeof(REPL.softscope), mod::Module, code::String, filename::String)",
      "   @ Base .\\loading.jl:1196"
     ]
    }
   ],
   "source": [
    "import Base: sin\n",
    "function sin(x::AD)\n",
    "    error(\"This is where you come in...\")\n",
    "end\n",
    "\n",
    "sin(AD(2π))"
   ]
  },
  {
   "cell_type": "markdown",
   "metadata": {
    "slideshow": {
     "slide_type": "slide"
    }
   },
   "source": [
    "## Conclusion\n",
    "We have seen how it is easy to implement forward-mode AD. This is not the end of the story, however, as there are many topics we have not discussed:\n",
    "\n",
    "- We only worked with scalar AD, but for functions with multiple inputs it is important to support Jacobians and Hessians.\n",
    "- Non-scalar AD means matrix formats, implicit definitions of `J*v` products, memory allocation ...\n",
    "- Sparsity becomes a big issue for many applications, including PDEs - not all derivatives should be computed.\n",
    "- Custom numerical types relies on the code being flexible with respect to input types - using `Number` instead or `AbstractFloat` instead of `Float64` in their declarations.\n",
    "\n",
    "The [JuliaDiff](https://juliadiff.org/) organization contains links to many packages that can be tested. Some are experiments and others are very high quality and have been around for a long while:\n",
    "- [ForwardDiff.jl](https://github.com/JuliaDiff/ForwardDiff.jl) is a highly efficient forward-mode implementation.\n",
    "- [ReverseDiff.jl](https://github.com/JuliaDiff/ReverseDiff.jl) is an implementation of reverse-mode AD.\n",
    "- [Zygyote.jl](https://github.com/FluxML/Zygote.jl) is reverse mode source transformation implementation that is applied to the Julia IR."
   ]
  }
 ],
 "metadata": {
  "celltoolbar": "Slideshow",
  "kernelspec": {
   "display_name": "Julia 1.7.2",
   "language": "julia",
   "name": "julia-1.7"
  },
  "language_info": {
   "file_extension": ".jl",
   "mimetype": "application/julia",
   "name": "julia",
   "version": "1.7.2"
  }
 },
 "nbformat": 4,
 "nbformat_minor": 2
}
